{
  "nbformat": 4,
  "nbformat_minor": 0,
  "metadata": {
    "colab": {
      "name": "b211_homwork2_numpy.ipynb",
      "provenance": [],
      "collapsed_sections": [],
      "authorship_tag": "ABX9TyM79nraCsg9cWTj41nJbcNU",
      "include_colab_link": true
    },
    "kernelspec": {
      "name": "python3",
      "display_name": "Python 3"
    }
  },
  "cells": [
    {
      "cell_type": "markdown",
      "metadata": {
        "id": "view-in-github",
        "colab_type": "text"
      },
      "source": [
        "<a href=\"https://colab.research.google.com/github/hsi88/B-211/blob/main/b211_homwork2_numpy.ipynb\" target=\"_parent\"><img src=\"https://colab.research.google.com/assets/colab-badge.svg\" alt=\"Open In Colab\"/></a>"
      ]
    },
    {
      "cell_type": "code",
      "metadata": {
        "id": "dNpWZ-0EDakD"
      },
      "source": [
        "import numpy as np  "
      ],
      "execution_count": null,
      "outputs": []
    },
    {
      "cell_type": "code",
      "metadata": {
        "id": "UJmMwWxtR2Hn",
        "colab": {
          "base_uri": "https://localhost:8080/",
          "height": 34
        },
        "outputId": "36cd97af-642d-42d9-e9c0-1d4f8925520c"
      },
      "source": [
        "#question 1\n",
        "a = np.array ([[ 10, 1, 3], [ 3, 5, 12], [ 7, 13, 5]])\n",
        "np.all(a != 5)\n",
        "\n"
      ],
      "execution_count": null,
      "outputs": [
        {
          "output_type": "execute_result",
          "data": {
            "text/plain": [
              "False"
            ]
          },
          "metadata": {
            "tags": []
          },
          "execution_count": 75
        }
      ]
    },
    {
      "cell_type": "code",
      "metadata": {
        "id": "5mA6WmioR179",
        "colab": {
          "base_uri": "https://localhost:8080/",
          "height": 34
        },
        "outputId": "710e4edc-a65c-413f-d46a-7dbebb150157"
      },
      "source": [
        "b =np.array ([5, 3, 8, 7, 10]) \n",
        "b =np.asfarray(b)\n",
        "b"
      ],
      "execution_count": null,
      "outputs": [
        {
          "output_type": "execute_result",
          "data": {
            "text/plain": [
              "array([ 5.,  3.,  8.,  7., 10.])"
            ]
          },
          "metadata": {
            "tags": []
          },
          "execution_count": 76
        }
      ]
    },
    {
      "cell_type": "code",
      "metadata": {
        "id": "_iLDGvBrnEcF"
      },
      "source": [
        ""
      ],
      "execution_count": null,
      "outputs": []
    },
    {
      "cell_type": "markdown",
      "metadata": {
        "id": "PBBI8ePKnGqX"
      },
      "source": [
        "- question 3, Write a NumPy program to create a random 2d array 10X10 with 1000\n",
        "elements and compute the mean and standard deviation of the array\n",
        "elements"
      ]
    },
    {
      "cell_type": "code",
      "metadata": {
        "id": "k4bHFTZcnISH",
        "colab": {
          "base_uri": "https://localhost:8080/",
          "height": 51
        },
        "outputId": "ff77e3f0-f6e3-47a8-912b-13b0324619cb"
      },
      "source": [
        "c = np.random.rand(10,10)\n",
        "print('mean =', c.mean())\n",
        "print( 'std =' , c.std())"
      ],
      "execution_count": null,
      "outputs": [
        {
          "output_type": "stream",
          "text": [
            "mean = 0.5034680713575117\n",
            "std = 0.2891900400549789\n"
          ],
          "name": "stdout"
        }
      ]
    },
    {
      "cell_type": "markdown",
      "metadata": {
        "id": "_Nxlldx-okVh"
      },
      "source": [
        "question 4 Write a NumPy program to calculate cumulative product of the elements\n",
        "along each row and each column for the following array:\n",
        "([[ 0, 1, 3],\n",
        " [ 3, 7, 12],\n",
        " [ 6, 13, 21]]"
      ]
    },
    {
      "cell_type": "code",
      "metadata": {
        "id": "qyQ8terTooui",
        "colab": {
          "base_uri": "https://localhost:8080/",
          "height": 68
        },
        "outputId": "62791475-bde6-4f47-b6a5-03c07254c80e"
      },
      "source": [
        "d = np.array([[ 0, 1, 3], [ 3, 7, 12], [ 6, 13, 21]])\n",
        "d.cumsum(axis=1) # cumulataive row \n"
      ],
      "execution_count": null,
      "outputs": [
        {
          "output_type": "execute_result",
          "data": {
            "text/plain": [
              "array([[ 0,  1,  4],\n",
              "       [ 3, 10, 22],\n",
              "       [ 6, 19, 40]])"
            ]
          },
          "metadata": {
            "tags": []
          },
          "execution_count": 68
        }
      ]
    },
    {
      "cell_type": "code",
      "metadata": {
        "id": "8f0fGtvTuvMe",
        "colab": {
          "base_uri": "https://localhost:8080/",
          "height": 68
        },
        "outputId": "bf221d02-c189-4e66-9a0e-6cf598f08183"
      },
      "source": [
        "d.cumsum(axis=0) #cumulative column\n"
      ],
      "execution_count": null,
      "outputs": [
        {
          "output_type": "execute_result",
          "data": {
            "text/plain": [
              "array([[ 0,  1,  3],\n",
              "       [ 3,  8, 15],\n",
              "       [ 9, 21, 36]])"
            ]
          },
          "metadata": {
            "tags": []
          },
          "execution_count": 69
        }
      ]
    },
    {
      "cell_type": "markdown",
      "metadata": {
        "id": "BNyIjAGru0-1"
      },
      "source": [
        "question 5.   Write a NumPy program to calculate the difference between neighboring\n",
        "elements, element-wise of the following 1d array.\n",
        "[10, 30, 50, 70, 100,80]"
      ]
    },
    {
      "cell_type": "code",
      "metadata": {
        "id": "5hpbKOn2u5qA",
        "colab": {
          "base_uri": "https://localhost:8080/",
          "height": 51
        },
        "outputId": "06fcff6d-2f4e-4550-a73a-99ac8ac1031c"
      },
      "source": [
        "e = np.array([10, 30, 50, 70, 100,80])\n",
        "print(\"eighboring elements, element-wise of the said array.\")\n",
        "print(np.diff(e))"
      ],
      "execution_count": null,
      "outputs": [
        {
          "output_type": "stream",
          "text": [
            "eighboring elements, element-wise of the said array.\n",
            "[ 20  20  20  30 -20]\n"
          ],
          "name": "stdout"
        }
      ]
    },
    {
      "cell_type": "markdown",
      "metadata": {
        "id": "Ic09o4Gv1yhO"
      },
      "source": [
        "question 6 Display the names of the months between 2017 and 2018"
      ]
    },
    {
      "cell_type": "code",
      "metadata": {
        "id": "hJ2mnudA19Fo",
        "colab": {
          "base_uri": "https://localhost:8080/",
          "height": 51
        },
        "outputId": "9aaa4aa9-48c6-4d18-ec51-6fc98dc047a0"
      },
      "source": [
        "print(np.arange('2017-01','2018-01', dtype='datetime64[M]'))"
      ],
      "execution_count": null,
      "outputs": [
        {
          "output_type": "stream",
          "text": [
            "['2017-01' '2017-02' '2017-03' '2017-04' '2017-05' '2017-06' '2017-07'\n",
            " '2017-08' '2017-09' '2017-10' '2017-11' '2017-12']\n"
          ],
          "name": "stdout"
        }
      ]
    },
    {
      "cell_type": "code",
      "metadata": {
        "id": "UuTkkALR2B3E"
      },
      "source": [
        ""
      ],
      "execution_count": null,
      "outputs": []
    },
    {
      "cell_type": "markdown",
      "metadata": {
        "id": "ByEF7YjC2FEz"
      },
      "source": [
        "question 7\n",
        "\n",
        "Write a NumPy program to explore iris dataset and do the following:\n",
        "• Print the shape of the dataset.\n",
        "• Print the column names (features) up to the last column.\n",
        "• Print the last column name.\n",
        "• Check the type of all column in the dataset, excluding the last column.\n",
        "• Check the type of the last column in the dataset.\n",
        "• Check the shape of the dataset, excluding the last column.\n",
        "• Check the shape of the last column in the dataset.\n",
        "• Print the value of the 2nd column for the 25th sample/data point in the\n",
        "dataset.\n",
        "• Print the value of the last column for the 99th sample/data point in the\n",
        "datasetq"
      ]
    },
    {
      "cell_type": "code",
      "metadata": {
        "id": "qiTpcmiIod_z"
      },
      "source": [
        ""
      ],
      "execution_count": null,
      "outputs": []
    },
    {
      "cell_type": "code",
      "metadata": {
        "id": "1GW3uTOYh5Lh",
        "colab": {
          "base_uri": "https://localhost:8080/",
          "height": 34
        },
        "outputId": "aee8388d-262e-4f13-8bc7-4ead99b1a0e4"
      },
      "source": [
        "# • Print the shape of the dataset. \n",
        "file = open('/iris.data.csv')\n",
        "h= np.genfromtxt(file, delimiter=\",\") \n",
        "h.shape"
      ],
      "execution_count": null,
      "outputs": [
        {
          "output_type": "execute_result",
          "data": {
            "text/plain": [
              "(151, 5)"
            ]
          },
          "metadata": {
            "tags": []
          },
          "execution_count": 88
        }
      ]
    },
    {
      "cell_type": "code",
      "metadata": {
        "id": "wFXECoeNkVlC",
        "colab": {
          "base_uri": "https://localhost:8080/",
          "height": 34
        },
        "outputId": "4ba2aa97-30b9-4a2e-e134-15b56261c715"
      },
      "source": [
        "#Print the column names (features) up to the last column.\n",
        "file = open('/iris.data.csv')\n",
        "data = np.genfromtxt(file, delimiter=\",\", names=True)\n",
        "print(data.dtype.names)\n",
        "# 'names' read the headline\n"
      ],
      "execution_count": null,
      "outputs": [
        {
          "output_type": "stream",
          "text": [
            "('sepal_length', 'sepal_width', 'petal_length', 'petal_width', 'class')\n"
          ],
          "name": "stdout"
        }
      ]
    },
    {
      "cell_type": "code",
      "metadata": {
        "id": "JAs0cUAD2JPc",
        "colab": {
          "base_uri": "https://localhost:8080/",
          "height": 34
        },
        "outputId": "1b980dcf-f979-4363-d05b-3218377bb310"
      },
      "source": [
        "# Print the last column name. • \n",
        "print(data.dtype.names[-1])"
      ],
      "execution_count": null,
      "outputs": [
        {
          "output_type": "stream",
          "text": [
            "class\n"
          ],
          "name": "stdout"
        }
      ]
    },
    {
      "cell_type": "code",
      "metadata": {
        "id": "iwtaADCHlrZa",
        "colab": {
          "base_uri": "https://localhost:8080/",
          "height": 54
        },
        "outputId": "dd82ddf9-1bcf-4c70-de65-1aa69b3957f5"
      },
      "source": [
        "#• Check the type of all column in the dataset, excluding the last column.\n",
        "file = open('/iris.data.csv')\n",
        "dt = np.genfromtxt(file, delimiter=\",\", names=True)\n",
        "print(dt.dtype)\n"
      ],
      "execution_count": null,
      "outputs": [
        {
          "output_type": "stream",
          "text": [
            "[('sepal_length', '<f8'), ('sepal_width', '<f8'), ('petal_length', '<f8'), ('petal_width', '<f8'), ('class', '<f8')]\n"
          ],
          "name": "stdout"
        }
      ]
    },
    {
      "cell_type": "code",
      "metadata": {
        "id": "NBNA2JsqofZx",
        "colab": {
          "base_uri": "https://localhost:8080/",
          "height": 34
        },
        "outputId": "58fec888-ddd1-4f45-921a-78dc2030a6b0"
      },
      "source": [
        "# Check the type of the last column in the dataset. • \n",
        "file = open('/iris.data.csv')\n",
        "dt = np.genfromtxt(file, delimiter=\",\", names=True)\n",
        "print(dt.dtype[-1])"
      ],
      "execution_count": null,
      "outputs": [
        {
          "output_type": "stream",
          "text": [
            "float64\n"
          ],
          "name": "stdout"
        }
      ]
    },
    {
      "cell_type": "code",
      "metadata": {
        "id": "ylzX_BjeogZ6",
        "colab": {
          "base_uri": "https://localhost:8080/",
          "height": 34
        },
        "outputId": "9cedd159-aa28-4144-818d-90f6d88b1f85"
      },
      "source": [
        "# Check the shape of the dataset, excluding the last column. \n",
        "file = open('/iris.data.csv')\n",
        "dt = np.genfromtxt(file, delimiter=\",\", usecols=(0,1,2,3))\n",
        "print(dt.shape)\n",
        "\n",
        "# This will give the number of columns is 2-d array \n"
      ],
      "execution_count": null,
      "outputs": [
        {
          "output_type": "stream",
          "text": [
            "(151, 4)\n"
          ],
          "name": "stdout"
        }
      ]
    },
    {
      "cell_type": "code",
      "metadata": {
        "id": "20wwg_xLvBkF",
        "colab": {
          "base_uri": "https://localhost:8080/",
          "height": 34
        },
        "outputId": "12ca6a8b-21a5-4eb5-fe5e-0f6be7d08e4b"
      },
      "source": [
        "# Check the shape of the last column in the dataset\n",
        "\n",
        "file = open('/iris.data.csv')\n",
        "dt = np.genfromtxt(file, delimiter=\",\", usecols=(4))\n",
        "print(dt.shape)\n"
      ],
      "execution_count": null,
      "outputs": [
        {
          "output_type": "stream",
          "text": [
            "(151,)\n"
          ],
          "name": "stdout"
        }
      ]
    },
    {
      "cell_type": "code",
      "metadata": {
        "id": "IkyF0lb2FDSz"
      },
      "source": [
        ""
      ],
      "execution_count": null,
      "outputs": []
    },
    {
      "cell_type": "code",
      "metadata": {
        "id": "eKLZ0i6xvFhS",
        "colab": {
          "base_uri": "https://localhost:8080/",
          "height": 88
        },
        "outputId": "96e5215f-563d-4c65-bc06-c702bd121a56"
      },
      "source": [
        "# Print the value of the 2nd column for the 25th sample/data point in the dataset\n",
        "\n",
        "file = open('/iris.data.csv')\n",
        "dt = np.genfromtxt(file, delimiter=\",\", dtype=None)\n",
        "print(dt[25])\n",
        "              \n",
        "                "
      ],
      "execution_count": null,
      "outputs": [
        {
          "output_type": "stream",
          "text": [
            "[b'4.8' b'3.4' b'1.9' b'0.2' b'Iris-setosa']\n"
          ],
          "name": "stdout"
        },
        {
          "output_type": "stream",
          "text": [
            "/usr/local/lib/python3.6/dist-packages/ipykernel_launcher.py:4: VisibleDeprecationWarning: Reading unicode strings without specifying the encoding argument is deprecated. Set the encoding, use None for the system default.\n",
            "  after removing the cwd from sys.path.\n"
          ],
          "name": "stderr"
        }
      ]
    },
    {
      "cell_type": "code",
      "metadata": {
        "id": "kf1uyvravIB2",
        "colab": {
          "base_uri": "https://localhost:8080/",
          "height": 88
        },
        "outputId": "c946ad60-df93-4b99-a491-45776e87beba"
      },
      "source": [
        "# Print the value of the last column for the 99th sample/data point in the\n",
        "\n",
        "file = open('/iris.data.csv')\n",
        "dt = np.genfromtxt(file, delimiter=\",\", dtype= None)\n",
        "print(dt[99,-1])\n",
        "\n",
        "# dtype = none,  read all dtype "
      ],
      "execution_count": null,
      "outputs": [
        {
          "output_type": "stream",
          "text": [
            "b'Iris-versicolor'\n"
          ],
          "name": "stdout"
        },
        {
          "output_type": "stream",
          "text": [
            "/usr/local/lib/python3.6/dist-packages/ipykernel_launcher.py:4: VisibleDeprecationWarning: Reading unicode strings without specifying the encoding argument is deprecated. Set the encoding, use None for the system default.\n",
            "  after removing the cwd from sys.path.\n"
          ],
          "name": "stderr"
        }
      ]
    },
    {
      "cell_type": "code",
      "metadata": {
        "id": "DnNVf4nyon9R"
      },
      "source": [
        ""
      ],
      "execution_count": null,
      "outputs": []
    }
  ]
}