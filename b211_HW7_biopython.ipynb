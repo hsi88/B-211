{
  "nbformat": 4,
  "nbformat_minor": 0,
  "metadata": {
    "colab": {
      "name": "b211 HW7 biopython.ipynb",
      "provenance": [],
      "toc_visible": true,
      "mount_file_id": "1DC-uS5ssMbN-AzBT6iTdqaB0V8dHzlEQ",
      "authorship_tag": "ABX9TyOFTmi+o1rIw9Y9JT2WXDyl",
      "include_colab_link": true
    },
    "kernelspec": {
      "name": "python3",
      "display_name": "Python 3"
    }
  },
  "cells": [
    {
      "cell_type": "markdown",
      "metadata": {
        "id": "view-in-github",
        "colab_type": "text"
      },
      "source": [
        "<a href=\"https://colab.research.google.com/github/hsi88/B-211/blob/main/b211_HW7_biopython.ipynb\" target=\"_parent\"><img src=\"https://colab.research.google.com/assets/colab-badge.svg\" alt=\"Open In Colab\"/></a>"
      ]
    },
    {
      "cell_type": "code",
      "metadata": {
        "id": "b54PQ4KtzH3t",
        "colab": {
          "base_uri": "https://localhost:8080/"
        },
        "outputId": "736cacb7-3fea-4dd8-a332-08e10e7914c8"
      },
      "source": [
        "!pip install Bio"
      ],
      "execution_count": null,
      "outputs": [
        {
          "output_type": "stream",
          "text": [
            "Collecting Bio\n",
            "\u001b[?25l  Downloading https://files.pythonhosted.org/packages/77/74/95715499c2e11f101ccea8fad43561e5fe0a8424c6473956813f114ac874/bio-0.2.0-py3-none-any.whl (48kB)\n",
            "\r\u001b[K     |██████▉                         | 10kB 15.8MB/s eta 0:00:01\r\u001b[K     |█████████████▋                  | 20kB 20.8MB/s eta 0:00:01\r\u001b[K     |████████████████████▍           | 30kB 11.7MB/s eta 0:00:01\r\u001b[K     |███████████████████████████▏    | 40kB 8.6MB/s eta 0:00:01\r\u001b[K     |████████████████████████████████| 51kB 2.8MB/s \n",
            "\u001b[?25hRequirement already satisfied: requests in /usr/local/lib/python3.6/dist-packages (from Bio) (2.23.0)\n",
            "Collecting biopython>=1.78\n",
            "\u001b[?25l  Downloading https://files.pythonhosted.org/packages/76/02/8b606c4aa92ff61b5eda71d23b499ab1de57d5e818be33f77b01a6f435a8/biopython-1.78-cp36-cp36m-manylinux1_x86_64.whl (2.3MB)\n",
            "\u001b[K     |████████████████████████████████| 2.3MB 7.3MB/s \n",
            "\u001b[?25hRequirement already satisfied: chardet<4,>=3.0.2 in /usr/local/lib/python3.6/dist-packages (from requests->Bio) (3.0.4)\n",
            "Requirement already satisfied: idna<3,>=2.5 in /usr/local/lib/python3.6/dist-packages (from requests->Bio) (2.10)\n",
            "Requirement already satisfied: urllib3!=1.25.0,!=1.25.1,<1.26,>=1.21.1 in /usr/local/lib/python3.6/dist-packages (from requests->Bio) (1.24.3)\n",
            "Requirement already satisfied: certifi>=2017.4.17 in /usr/local/lib/python3.6/dist-packages (from requests->Bio) (2020.11.8)\n",
            "Requirement already satisfied: numpy in /usr/local/lib/python3.6/dist-packages (from biopython>=1.78->Bio) (1.18.5)\n",
            "Installing collected packages: biopython, Bio\n",
            "Successfully installed Bio-0.2.0 biopython-1.78\n"
          ],
          "name": "stdout"
        }
      ]
    },
    {
      "cell_type": "code",
      "metadata": {
        "id": "tsc2E8F3Ruy7"
      },
      "source": [
        ""
      ],
      "execution_count": null,
      "outputs": []
    },
    {
      "cell_type": "code",
      "metadata": {
        "id": "QkSf1a-jRw63"
      },
      "source": [
        ""
      ],
      "execution_count": null,
      "outputs": []
    },
    {
      "cell_type": "code",
      "metadata": {
        "colab": {
          "base_uri": "https://localhost:8080/"
        },
        "id": "zqdcpEsfR1BJ",
        "outputId": "6c93ef91-313e-4755-b27c-644d6678fb4c"
      },
      "source": [
        "#Use Biopython to answer the following questions. \n",
        "# a. How many databases are included in the Entrez network? \n",
        "from Bio import Entrez\n",
        "Entrez.email = 'A.N.Other@example.com'\n",
        "record = Entrez.read(Entrez.einfo())\n",
        "\n",
        "print(\"How many databases are included in the Entrez network? \")\n",
        "print(len(record['DbList']))\n",
        "\n",
        "#What are the names of those databases?\n",
        "print(\"What are the names of those databases?\")\n",
        "print(record['DbList'])\n",
        "\n"
      ],
      "execution_count": null,
      "outputs": [
        {
          "output_type": "stream",
          "text": [
            "How many databases are included in the Entrez network? \n",
            "44\n",
            "What are the names of those databases?\n",
            "['pubmed', 'protein', 'nuccore', 'ipg', 'nucleotide', 'structure', 'sparcle', 'protfam', 'genome', 'annotinfo', 'assembly', 'bioproject', 'biosample', 'blastdbinfo', 'books', 'cdd', 'clinvar', 'gap', 'gapplus', 'grasp', 'dbvar', 'gene', 'gds', 'geoprofiles', 'homologene', 'medgen', 'mesh', 'ncbisearch', 'nlmcatalog', 'omim', 'orgtrack', 'pmc', 'popset', 'proteinclusters', 'pcassay', 'biosystems', 'pccompound', 'pcsubstance', 'seqannot', 'snp', 'sra', 'taxonomy', 'biocollections', 'gtr']\n"
          ],
          "name": "stdout"
        }
      ]
    },
    {
      "cell_type": "code",
      "metadata": {
        "id": "K0UGxe7o85AH"
      },
      "source": [
        ""
      ],
      "execution_count": null,
      "outputs": []
    },
    {
      "cell_type": "code",
      "metadata": {
        "colab": {
          "base_uri": "https://localhost:8080/"
        },
        "id": "hVpcl6fCTLID",
        "outputId": "173f70dc-de8a-44ac-fad6-f1a1d8968448"
      },
      "source": [
        "#c. How many hits does it return if you query Pubmed for “CRISPR/Cas9”?\n",
        "handle = Entrez.esearch(db='pubmed', term='CRISPR/Cas9')\n",
        "record = Entrez.read(handle)\n",
        "print('How many hits does it return if you query Pubmed for “CRISPR/Cas9”?')\n",
        "print(record['Count'])\n",
        "record\n"
      ],
      "execution_count": null,
      "outputs": [
        {
          "output_type": "stream",
          "text": [
            "How many hits does it return if you query Pubmed for “CRISPR/Cas9”?\n",
            "9176\n"
          ],
          "name": "stdout"
        },
        {
          "output_type": "execute_result",
          "data": {
            "text/plain": [
              "{'Count': '9176', 'RetMax': '20', 'RetStart': '0', 'IdList': ['33253913', '33253759', '33253156', '33252683', '33251213', '33250772', '33249861', '33249427', '33249237', '33248566', '33247547', '33247091', '33246552', '33245729', '33244929', '33244160', '33241624', '33240875', '33240819', '33240293'], 'TranslationSet': [], 'TranslationStack': [{'Term': 'CRISPR/Cas9[All Fields]', 'Field': 'All Fields', 'Count': '9178', 'Explode': 'N'}, 'GROUP'], 'QueryTranslation': 'CRISPR/Cas9[All Fields]'}"
            ]
          },
          "metadata": {
            "tags": []
          },
          "execution_count": 5
        }
      ]
    },
    {
      "cell_type": "code",
      "metadata": {
        "id": "GSRDJsOoBBZz"
      },
      "source": [
        "#c. How many hits does it return if you query Pubmed for “CRISPR/Cas9”?\n",
        "handle = Entrez.esearch(db='geo', term='GSM791428')\n",
        "record = Entrez.read(handle)\n",
        "print('How many hits does it return if you query Pubmed for “CRISPR/Cas9”?')\n",
        "print(record['Count'])\n",
        "record"
      ],
      "execution_count": null,
      "outputs": []
    },
    {
      "cell_type": "code",
      "metadata": {
        "colab": {
          "base_uri": "https://localhost:8080/"
        },
        "id": "lu7jAouWjZ27",
        "outputId": "9387ad81-eeeb-4b2e-8da3-2b62509b412a"
      },
      "source": [
        "#d. Select three articles from the queried results. Write a file that includes the article names, authors, ids, publish dates, and summaries. \n",
        "from Bio import Entrez\n",
        "Entrez.email = \"xz87@iu.edu\"\n",
        "Entrez.api_key =  \"b3402fd3832b6cecf9240ad40bb6f0661508\"\n",
        "idlist = ['25315507','33253759', '33252683']\n",
        "idresult = open('3d.result.txt',mode='w')\n",
        "for i in idlist:\n",
        "  handle = Entrez.efetch(db='pubmed',id=i, retmode='xml')\n",
        "  papers = Entrez.read(handle)\n",
        "  for i, paper in enumerate(papers['PubmedArticle']): \n",
        "    print(i+1 , paper['MedlineCitation']['Article']['ArticleTitle'])\n",
        "    print(i+1 , paper['MedlineCitation']['Article']['AuthorList'])\n",
        "    print(i+1 , paper['MedlineCitation']['PMID'])\n",
        "    print(i+1 , paper['MedlineCitation']['Article']['Journal']['JournalIssue']['PubDate'])\n",
        "    print(i+1 , paper['MedlineCitation']['Article']['Abstract']['AbstractText'])\n",
        "    print('\\n')\n",
        "idresult.close()\n"
      ],
      "execution_count": null,
      "outputs": [
        {
          "output_type": "stream",
          "text": [
            "1 Genome modification by CRISPR/Cas9.\n",
            "1 ListElement([DictElement({'AffiliationInfo': [{'Identifier': [], 'Affiliation': 'Key Laboratory of Human Disease Comparative Medicine, Ministry of Health, Institute of Laboratory Animal Science, Chinese Academy of Medical Sciences, Beijing, China.'}], 'Identifier': [], 'LastName': 'Ma', 'ForeName': 'Yuanwu', 'Initials': 'Y'}, attributes={'ValidYN': 'Y'}), DictElement({'AffiliationInfo': [], 'Identifier': [], 'LastName': 'Zhang', 'ForeName': 'Lianfeng', 'Initials': 'L'}, attributes={'ValidYN': 'Y'}), DictElement({'AffiliationInfo': [], 'Identifier': [], 'LastName': 'Huang', 'ForeName': 'Xingxu', 'Initials': 'X'}, attributes={'ValidYN': 'Y'})], attributes={'CompleteYN': 'Y'})\n",
            "1 25315507\n",
            "1 {'Year': '2014', 'Month': 'Dec'}\n",
            "1 ['Clustered regularly interspaced short palindromic repeats (CRISPR)-CRISPR-associated protein (Cas)9-mediated genome modification enables us to edit the genomes of a variety of organisms rapidly and efficiently. The advantages of the CRISPR-Cas9 system have made it an increasingly popular genetic engineering tool for biological and therapeutic applications. Moreover, CRISPR-Cas9 has been employed to recruit functional domains that repress/activate gene expression or label specific genomic loci in living cells or organisms, in order to explore developmental mechanisms, gene expression regulation, and animal behavior. One major concern about this system is its specificity; although CRISPR-Cas9-mediated off-target mutation has been broadly studied, more efforts are required to further improve the specificity of CRISPR-Cas9. We will also discuss the potential applications of CRISPR-Cas9. ']\n",
            "\n",
            "\n",
            "1 Improved engraftment of human peripheral blood mononuclear cells in NOG MHC double knockout mice generated using CRISPR/Cas9.\n",
            "1 ListElement([DictElement({'AffiliationInfo': [{'Identifier': [], 'Affiliation': 'Central Institute for Experimental Animals, 3-25-12 Tonomachi, Kawasaki-ku, Kawasaki, Kanagawa, 210-0821, Japan.'}], 'Identifier': [], 'LastName': 'Ka', 'ForeName': 'Yuyo', 'Initials': 'Y'}, attributes={'ValidYN': 'Y'}), DictElement({'AffiliationInfo': [{'Identifier': [], 'Affiliation': 'Central Institute for Experimental Animals, 3-25-12 Tonomachi, Kawasaki-ku, Kawasaki, Kanagawa, 210-0821, Japan.'}], 'Identifier': [], 'LastName': 'Katano', 'ForeName': 'Ikumi', 'Initials': 'I'}, attributes={'ValidYN': 'Y'}), DictElement({'AffiliationInfo': [{'Identifier': [], 'Affiliation': 'Central Institute for Experimental Animals, 3-25-12 Tonomachi, Kawasaki-ku, Kawasaki, Kanagawa, 210-0821, Japan.'}], 'Identifier': [], 'LastName': 'Nishinaka', 'ForeName': 'Eiko', 'Initials': 'E'}, attributes={'ValidYN': 'Y'}), DictElement({'AffiliationInfo': [{'Identifier': [], 'Affiliation': 'Taconic Biosciences, Inc., 1 Discovery Drive, Suite 304, Rensselaer, NY, 12144, United States.'}], 'Identifier': [], 'LastName': 'Welcker', 'ForeName': 'Jochen', 'Initials': 'J'}, attributes={'ValidYN': 'Y'}), DictElement({'AffiliationInfo': [{'Identifier': [], 'Affiliation': 'Central Institute for Experimental Animals, 3-25-12 Tonomachi, Kawasaki-ku, Kawasaki, Kanagawa, 210-0821, Japan.'}], 'Identifier': [], 'LastName': 'Mochizuki', 'ForeName': 'Misa', 'Initials': 'M'}, attributes={'ValidYN': 'Y'}), DictElement({'AffiliationInfo': [{'Identifier': [], 'Affiliation': 'Central Institute for Experimental Animals, 3-25-12 Tonomachi, Kawasaki-ku, Kawasaki, Kanagawa, 210-0821, Japan.'}], 'Identifier': [], 'LastName': 'Kawai', 'ForeName': 'Kenji', 'Initials': 'K'}, attributes={'ValidYN': 'Y'}), DictElement({'AffiliationInfo': [{'Identifier': [], 'Affiliation': 'Central Institute for Experimental Animals, 3-25-12 Tonomachi, Kawasaki-ku, Kawasaki, Kanagawa, 210-0821, Japan.'}], 'Identifier': [], 'LastName': 'Goto', 'ForeName': 'Motohito', 'Initials': 'M'}, attributes={'ValidYN': 'Y'}), DictElement({'AffiliationInfo': [{'Identifier': [], 'Affiliation': 'Central Institute for Experimental Animals, 3-25-12 Tonomachi, Kawasaki-ku, Kawasaki, Kanagawa, 210-0821, Japan.'}], 'Identifier': [], 'LastName': 'Tomiyama', 'ForeName': 'Kayo', 'Initials': 'K'}, attributes={'ValidYN': 'Y'}), DictElement({'AffiliationInfo': [{'Identifier': [], 'Affiliation': 'Central Institute for Experimental Animals, 3-25-12 Tonomachi, Kawasaki-ku, Kawasaki, Kanagawa, 210-0821, Japan.'}], 'Identifier': [], 'LastName': 'Ogura', 'ForeName': 'Tomoyuki', 'Initials': 'T'}, attributes={'ValidYN': 'Y'}), DictElement({'AffiliationInfo': [{'Identifier': [], 'Affiliation': 'Central Institute for Experimental Animals, 3-25-12 Tonomachi, Kawasaki-ku, Kawasaki, Kanagawa, 210-0821, Japan.'}], 'Identifier': [], 'LastName': 'Yamamoto', 'ForeName': 'Taichi', 'Initials': 'T'}, attributes={'ValidYN': 'Y'}), DictElement({'AffiliationInfo': [{'Identifier': [], 'Affiliation': 'Central Institute for Experimental Animals, 3-25-12 Tonomachi, Kawasaki-ku, Kawasaki, Kanagawa, 210-0821, Japan.'}], 'Identifier': [], 'LastName': 'Ito', 'ForeName': 'Mamoru', 'Initials': 'M'}, attributes={'ValidYN': 'Y'}), DictElement({'AffiliationInfo': [{'Identifier': [], 'Affiliation': 'Central Institute for Experimental Animals, 3-25-12 Tonomachi, Kawasaki-ku, Kawasaki, Kanagawa, 210-0821, Japan. Electronic address: rito@ciea.or.jp.'}], 'Identifier': [], 'LastName': 'Ito', 'ForeName': 'Ryoji', 'Initials': 'R'}, attributes={'ValidYN': 'Y'}), DictElement({'AffiliationInfo': [{'Identifier': [], 'Affiliation': 'Central Institute for Experimental Animals, 3-25-12 Tonomachi, Kawasaki-ku, Kawasaki, Kanagawa, 210-0821, Japan. Electronic address: riichi-takahashi@ciea.or.jp.'}], 'Identifier': [], 'LastName': 'Takahashi', 'ForeName': 'Riichi', 'Initials': 'R'}, attributes={'ValidYN': 'Y'})], attributes={'CompleteYN': 'Y'})\n",
            "1 33253759\n",
            "1 {'Year': '2020', 'Month': 'Nov', 'Day': '27'}\n",
            "1 ['Humanized mice are widely used to study the human immune system in vivo and develop therapies for various human diseases. Human peripheral blood mononuclear cells (PBMC)-engrafted NOD/Shi-scid IL2rγ<sup>null</sup> (NOG) mice are useful models for characterization of human T cells. However, the development of graft-versus-host disease (GVHD) limits the use of NOG PBMC models. We previously established a NOG-major histocompatibility complex class I/II double knockout (dKO) mouse model. Although humanized dKO mice do not develop severe GVHD, they have impaired reproductive performance and reduced chimerism of human cells. In this study, we established a novel beta-2 microglobulin (B2m) KO mouse model using CRISPR/Cas9. By crossing B2m KO mice with I-Ab KO mice, we established a modified dKO (dKO-em) mouse model. Reproductivity was slightly improved in dKO-em mice, compared with conventional dKO (dKO-tm) mice. dKO-em mice showed no signs of GVHD after the transfer of human PBMCs; they also exhibited high engraftment efficiency. Engrafted human PBMCs survived significantly longer in the peripheral blood and spleens of dKO-em mice, compared with dKO-tm mice. In conclusion, dKO-em mice might constitute a promising PBMC-based humanized mouse model for the development and preclinical testing of novel therapeutics for human diseases.']\n",
            "\n",
            "\n",
            "1 Mouse hair significantly lightened through replacement of the cysteine residue in the N-terminal domain of Mc1r using the CRISPR/Cas9 system.\n",
            "1 ListElement([DictElement({'AffiliationInfo': [{'Identifier': [], 'Affiliation': 'Graduate School of Environmental Science, Hokkaido University, Sapporo, Japan.'}], 'Identifier': [], 'LastName': 'Suzuki', 'ForeName': 'Hitoshi', 'Initials': 'H'}, attributes={'ValidYN': 'Y'}), DictElement({'AffiliationInfo': [{'Identifier': [], 'Affiliation': 'Graduate School of Agriculture, Kyoto University, Sakyo-ku, Kyoto, Japan.'}], 'Identifier': [], 'LastName': 'Kinoshita', 'ForeName': 'Gohta', 'Initials': 'G'}, attributes={'ValidYN': 'Y'}), DictElement({'AffiliationInfo': [{'Identifier': [], 'Affiliation': 'Graduate School of Science, Hokkaido University, Sapporo, Japan.'}], 'Identifier': [], 'LastName': 'Tsunoi', 'ForeName': 'Takeru', 'Initials': 'T'}, attributes={'ValidYN': 'Y'}), DictElement({'AffiliationInfo': [{'Identifier': [], 'Affiliation': 'Graduate School of Science, Hokkaido University, Sapporo, Japan.'}], 'Identifier': [], 'LastName': 'Noju', 'ForeName': 'Mitsuki', 'Initials': 'M'}, attributes={'ValidYN': 'Y'}), DictElement({'AffiliationInfo': [{'Identifier': [], 'Affiliation': 'Division of Developmental Genetics, Institute of Resource Development and Analysis, Kumamoto University, Honjo, Kumamoto, Japan.'}], 'Identifier': [], 'LastName': 'Araki', 'ForeName': 'Kimi', 'Initials': 'K'}, attributes={'ValidYN': 'Y'})], attributes={'CompleteYN': 'Y'})\n",
            "1 33252683\n",
            "1 {'Year': '2020', 'Month': 'Nov', 'Day': '30'}\n",
            "1 ['A loss-of-function mutation in the melanocortin 1 receptor gene (MC1R), which switches off the eumelanin production, causes yellowish coat color variants in mammals. In a wild population of sables (Martes zibellina) in Hokkaido, Japan, the mutation responsible for a bright yellow coat color variant was inferred to be a cysteine replacement at codon 35 of the N-terminal extracellular domain of the Mc1r receptor. In the present study, we validated these findings by applying genome editing on Mc1r in mouse strains C3H/HeJ and C57BL/6N, altering the codon for cysteine (Cys33Phe). The resulting single amino acid substitution (Cys33Phe) and unintentionally generated frameshift mutations yielded a color variant exhibiting substantially brighter body color, indicating that the Cys35 replacement produced sufficient MC1R loss of function to confirm that this mutation is responsible for producing the Hokkaido sable yellow color variant. Notably, the yellowish mutant mouse phenotype exhibited brown coloration in subapical hair on the dorsal side in both the C3H/HeJ and C57BL/6N strains, despite the inability of the latter to produce the agouti signaling protein (Asip). This darker hair and body coloration was not apparent in the Hokkaido sable variant, implying the presence of an additional genetic system shaping yellowish hair variability.']\n",
            "\n",
            "\n"
          ],
          "name": "stdout"
        }
      ]
    },
    {
      "cell_type": "code",
      "metadata": {
        "id": "-uQqCi8Ho-Ne",
        "colab": {
          "base_uri": "https://localhost:8080/"
        },
        "outputId": "d0e80f39-a171-4c98-bf44-2d1b96f60ffd"
      },
      "source": [
        "2 ## Your lab mate has been working on a project analyzing DNA from various human hair\n",
        "#samples. However, during one of those experiments they get an unfamiliar sequence. Use\n",
        "#Biopython to study this sequence and determine why this sequence is unfamiliar, and\n",
        "#what must have happened for this sequence to appear. "
      ],
      "execution_count": null,
      "outputs": [
        {
          "output_type": "execute_result",
          "data": {
            "text/plain": [
              "2"
            ]
          },
          "metadata": {
            "tags": []
          },
          "execution_count": 9
        }
      ]
    },
    {
      "cell_type": "code",
      "metadata": {
        "colab": {
          "base_uri": "https://localhost:8080/"
        },
        "id": "vO9QjqTjpCz6",
        "outputId": "7863024b-3b02-4884-ca92-e729a369332f"
      },
      "source": [
        "#a. Download the Strang Sequence file from Canvas. \n",
        "from Bio import SeqIO\n",
        "seq_Record = SeqIO.parse('Sequence.fasta','fasta')\n",
        "for record in seq_Record:\n",
        "  print(record.seq)\n"
      ],
      "execution_count": null,
      "outputs": [
        {
          "output_type": "stream",
          "text": [
            "cgatgattgttctctactaatcacaaggatattggtactttatacttactatttggggcatgagccggcatagta\n"
          ],
          "name": "stdout"
        }
      ]
    },
    {
      "cell_type": "code",
      "metadata": {
        "colab": {
          "base_uri": "https://localhost:8080/"
        },
        "id": "6U-Tf5O_0NQM",
        "outputId": "e9a17c5a-c5d9-4374-e7cd-d1ba23aa681f"
      },
      "source": [
        "a = record.seq\n",
        "a"
      ],
      "execution_count": null,
      "outputs": [
        {
          "output_type": "execute_result",
          "data": {
            "text/plain": [
              "Seq('cgatgattgttctctactaatcacaaggatattggtactttatacttactattt...gta')"
            ]
          },
          "metadata": {
            "tags": []
          },
          "execution_count": 13
        }
      ]
    },
    {
      "cell_type": "code",
      "metadata": {
        "id": "AEcM_83_pAG2"
      },
      "source": [
        "# Perform a BLAST search using the sequence.\n",
        "from Bio.Blast import NCBIWWW\n",
        "result_handle = NCBIWWW.qblast(\"blastn\", \"nt\", a)\n",
        "blast_result = open(\"dna_blast.xml\", \"w\")\n",
        "blast_result.write(result_handle.read())\n",
        "blast_result.close()\n",
        "result_handle.close()"
      ],
      "execution_count": null,
      "outputs": []
    },
    {
      "cell_type": "code",
      "metadata": {
        "id": "KFfB2ED30qvF"
      },
      "source": [
        "#c. Based upon your results, what is the likely source of the strange sequence? \n",
        "appeal in multiple species  homologous gene,  mitochondrion"
      ],
      "execution_count": null,
      "outputs": []
    },
    {
      "cell_type": "code",
      "metadata": {
        "id": "ezOW8r_9jP-p",
        "colab": {
          "base_uri": "https://localhost:8080/"
        },
        "outputId": "95996640-3d33-441b-98e5-2acd6e604e72"
      },
      "source": [
        "# this cell is not my code, just for reference. i don't understand how the code works...\n",
        "# may ask during the class \n",
        "https://www.tutorialspoint.com/biopython/biopython_overview_of_blast.htm\n",
        "from Bio.Blast import NCBIXML\n",
        "E_VALUE_THRESH = 1e-20 \n",
        "for record in NCBIXML.parse(open(\"dna_blast.xml\")): \n",
        "  if record.alignments: \n",
        "      print(\"\\n\") \n",
        "      print(\"query: %s\" % record.query[:100]) \n",
        "      for align in record.alignments: \n",
        "           for hsp in align.hsps: \n",
        "              if hsp.expect < E_VALUE_THRESH: \n",
        "                 print(\"match: %s \" % align.title[:100])"
      ],
      "execution_count": null,
      "outputs": [
        {
          "output_type": "stream",
          "text": [
            "\n",
            "\n",
            "query: No definition line\n",
            "match: gi|966798673|gb|KT901460.1| Canis lupus mitochondrion, complete genome \n",
            "match: gi|556571721|gb|KF573616.1| Canis lupus laniger mitochondrion, complete genome \n",
            "match: gi|222431907|gb|FJ032363.2| Canis lupus laniger mitochondrion, complete genome \n",
            "match: gi|169822860|gb|EU442884.2| Canis lupus chanco mitochondrion, complete genome \n",
            "match: gi|926459863|gb|KT448273.1| Canis aureus isolate CAU_Kenya_2 mitochondrion, partial genome \n",
            "match: gi|926459849|gb|KT448272.1| Canis aureus isolate CAU_Kenya_RKW1317 mitochondrion, partial genome \n",
            "match: gi|924443902|gb|KT378606.1| Canis anthus isolate Can6 mitochondrion, complete genome \n",
            "match: gi|924443888|gb|KT378605.1| Canis anthus isolate Can3 mitochondrion, complete genome \n",
            "match: gi|1832296281|gb|MN181404.1| Canis lupus familiaris isolate CAN002 mitochondrion, partial genome \n",
            "match: gi|1827515275|gb|MN699634.1| Canis lupus familiaris isolate L3669_XJ mitochondrion, partial genome \n",
            "match: gi|1827515233|gb|MN699631.1| Canis lupus familiaris isolate L3666_XJ mitochondrion, partial genome \n",
            "match: gi|1827515219|gb|MN699630.1| Canis lupus familiaris isolate L3665_XJ mitochondrion, partial genome \n",
            "match: gi|1827515205|gb|MN699629.1| Canis lupus familiaris isolate L3664_XJ mitochondrion, partial genome \n",
            "match: gi|1827515177|gb|MN699627.1| Canis lupus familiaris isolate L3662_XJ mitochondrion, partial genome \n",
            "match: gi|1827515163|gb|MN699626.1| Canis lupus familiaris isolate L3661_YGZ mitochondrion, partial genome \n",
            "match: gi|1827515135|gb|MN699624.1| Canis lupus familiaris isolate L3659_YGZ mitochondrion, partial genome \n",
            "match: gi|1827515107|gb|MN699622.1| Canis lupus familiaris isolate L3617_QHC mitochondrion, partial genome \n",
            "match: gi|1827515093|gb|MN699621.1| Canis lupus familiaris isolate L3616_QHC mitochondrion, partial genome \n",
            "match: gi|1827515079|gb|MN699620.1| Canis lupus familiaris isolate L3615_QHC mitochondrion, partial genome \n",
            "match: gi|1827515065|gb|MN699619.1| Canis lupus familiaris isolate L3614_QHC mitochondrion, partial genome \n",
            "match: gi|1827515023|gb|MN699616.1| Canis lupus familiaris isolate L3639_JCK mitochondrion, partial genome \n",
            "match: gi|1827515009|gb|MN699615.1| Canis lupus familiaris isolate L3515_YQ mitochondrion, partial genome \n",
            "match: gi|1827514995|gb|MN699614.1| Canis lupus familiaris isolate L3030_JCK mitochondrion, partial genome \n",
            "match: gi|1827514967|gb|MN699612.1| Canis lupus familiaris isolate L3637_SNSZ mitochondrion, partial genome \n",
            "match: gi|1827514953|gb|MN699611.1| Canis lupus familiaris isolate L3036_SNSZ mitochondrion, partial genome \n",
            "match: gi|1827514925|gb|MN699609.1| Canis lupus familiaris isolate L3517_JCK mitochondrion, partial genome \n",
            "match: gi|1827514911|gb|MN699608.1| Canis lupus familiaris isolate L3068_TLS mitochondrion, partial genome \n",
            "match: gi|1828350080|gb|CP050575.1| Canis lupus familiaris breed Labrador retriever chromosome MT \n",
            "match: gi|1806500514|dbj|LC520095.1| Canis lupus hodophilax Berlin48817 mitochondrial DNA, complete genome \n",
            "match: gi|1806500500|dbj|LC520094.1| Canis lupus hodophilax Jentink c mitochondrial DNA, complete genome \n",
            "match: gi|1806500486|dbj|LC520093.1| Canis lupus hodophilax Jentink b mitochondrial DNA, complete genome \n",
            "match: gi|1806500472|dbj|LC520092.1| Canis lupus hodophilax Jw292 mitochondrial DNA, complete genome \n",
            "match: gi|1806500458|dbj|LC520091.1| Canis lupus hodophilax Jw275 mitochondrial DNA, complete genome \n",
            "match: gi|1806500444|dbj|LC520090.1| Canis lupus hodophilax Jw271 mitochondrial DNA, complete genome \n",
            "match: gi|1806500430|dbj|LC520089.1| Canis lupus hodophilax Jw255 mitochondrial DNA, complete genome \n",
            "match: gi|1789850653|gb|MK937053.1| Canis lupus isolate SK1_3x mitochondrion, partial genome \n",
            "match: gi|1789850639|gb|MK937052.1| Canis lupus isolate tu9_3x mitochondrion, partial genome \n",
            "match: gi|1789850625|gb|MK937051.1| Canis lupus isolate tu8_3x mitochondrion, partial genome \n",
            "match: gi|1789850611|gb|MK937050.1| Canis lupus isolate tu7_3x mitochondrion, partial genome \n",
            "match: gi|1789850597|gb|MK937049.1| Canis lupus isolate tu6_3x mitochondrion, partial genome \n",
            "match: gi|1789850569|gb|MK937047.1| Canis lupus isolate tu4_3x mitochondrion, partial genome \n",
            "match: gi|1789850554|gb|MK937046.1| Canis lupus isolate tu3_3x mitochondrion, partial genome \n",
            "match: gi|1789850471|gb|MK937040.1| Canis lupus isolate tu14_3x mitochondrion, partial genome \n",
            "match: gi|1789850428|gb|MK937037.1| Canis lupus isolate tu11_3x mitochondrion, partial genome \n",
            "match: gi|1789850414|gb|MK937036.1| Canis lupus isolate tu10_3x mitochondrion, partial genome \n",
            "match: gi|1789850388|gb|MK937034.1| Canis lupus isolate th8_3x mitochondrion, partial genome \n",
            "match: gi|1789850374|gb|MK937033.1| Canis lupus isolate th7_3x mitochondrion, partial genome \n",
            "match: gi|1789850360|gb|MK937032.1| Canis lupus isolate th6_3x mitochondrion, partial genome \n",
            "match: gi|1832296267|gb|MN181403.1| Canis lupus familiaris isolate CAN001 mitochondrion, partial genome \n",
            "match: gi|1827514981|gb|MN699613.1| Canis lupus familiaris isolate L3638_SNSZ mitochondrion, partial genome \n"
          ],
          "name": "stdout"
        }
      ]
    },
    {
      "cell_type": "code",
      "metadata": {
        "id": "WF68Vs9g09_C"
      },
      "source": [
        "#d. How did this occur?  \n",
        "evolve from a common ancestor, to many diffferent species "
      ],
      "execution_count": null,
      "outputs": []
    },
    {
      "cell_type": "code",
      "metadata": {
        "id": "3Nu5rS9k92Tb"
      },
      "source": [
        "print(aseq)"
      ],
      "execution_count": null,
      "outputs": []
    },
    {
      "cell_type": "code",
      "metadata": {
        "id": "05k4UAOo1On9"
      },
      "source": [
        "#e. Translate the sequence, and then perform a protein blast on that sequence. \n",
        "from Bio.Seq import Seq\n",
        "my_Dna = Seq('cgatgattgttctctactaatcacaaggatattggtactttatacttactatttggggcatgagccggcatagta')\n",
        "p = my_Dna.translate()\n",
        "from Bio.Blast import NCBIWWW\n",
        "result_handle = NCBIWWW.qblast(\"blastp\", \"swissprot\", p)\n",
        "blast_result = open(\"protein.xml\", \"w\")\n",
        "blast_result.write(result_handle.read())\n",
        "blast_result.close()\n",
        "result_handle.close()"
      ],
      "execution_count": null,
      "outputs": []
    },
    {
      "cell_type": "code",
      "metadata": {
        "id": "j27pCUCdH0kO"
      },
      "source": [
        "#f. Explain your result. \n",
        "Full=Cytochrome c oxidase subunit 1; AltName: Full=Cytochrome c oxidase polypeptide \n",
        "math with high comparison score "
      ],
      "execution_count": null,
      "outputs": []
    },
    {
      "cell_type": "code",
      "metadata": {
        "id": "p5UmVa86lhKO"
      },
      "source": [
        ""
      ],
      "execution_count": null,
      "outputs": []
    },
    {
      "cell_type": "markdown",
      "metadata": {
        "id": "JCx7qla6cZaS"
      },
      "source": [
        ""
      ]
    }
  ]
}