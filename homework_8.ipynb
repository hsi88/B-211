{
  "nbformat": 4,
  "nbformat_minor": 0,
  "metadata": {
    "colab": {
      "name": "homework 8",
      "provenance": [],
      "authorship_tag": "ABX9TyN0gq1pvBQMWCyppq1Op6/c",
      "include_colab_link": true
    },
    "kernelspec": {
      "name": "python3",
      "display_name": "Python 3"
    }
  },
  "cells": [
    {
      "cell_type": "markdown",
      "metadata": {
        "id": "view-in-github",
        "colab_type": "text"
      },
      "source": [
        "<a href=\"https://colab.research.google.com/github/hsi88/B-211/blob/main/homework_8.ipynb\" target=\"_parent\"><img src=\"https://colab.research.google.com/assets/colab-badge.svg\" alt=\"Open In Colab\"/></a>"
      ]
    },
    {
      "cell_type": "code",
      "metadata": {
        "colab": {
          "base_uri": "https://localhost:8080/"
        },
        "id": "1DxjMv1GBza6",
        "outputId": "d5ae6c00-9bcf-477e-fd4a-20ea281888a0"
      },
      "source": [
        "!pip install nltk"
      ],
      "execution_count": null,
      "outputs": [
        {
          "output_type": "stream",
          "text": [
            "Requirement already satisfied: nltk in /usr/local/lib/python3.6/dist-packages (3.2.5)\n",
            "Requirement already satisfied: six in /usr/local/lib/python3.6/dist-packages (from nltk) (1.15.0)\n"
          ],
          "name": "stdout"
        }
      ]
    },
    {
      "cell_type": "code",
      "metadata": {
        "id": "QbwhDVCPS2eZ"
      },
      "source": [
        ""
      ],
      "execution_count": null,
      "outputs": []
    },
    {
      "cell_type": "code",
      "metadata": {
        "colab": {
          "base_uri": "https://localhost:8080/"
        },
        "id": "7Pnu81b8sVAy",
        "outputId": "95d0e722-dff7-49dc-a0e3-377e84929669"
      },
      "source": [
        "# question 1\n",
        "\n",
        "import pandas as pd\n",
        "ham = pd.read_csv('spam_ham_dataset.csv')\n",
        "#• Get shape of the dataset\n",
        "ham.shape"
      ],
      "execution_count": null,
      "outputs": [
        {
          "output_type": "execute_result",
          "data": {
            "text/plain": [
              "(5171, 4)"
            ]
          },
          "metadata": {
            "tags": []
          },
          "execution_count": 6
        }
      ]
    },
    {
      "cell_type": "code",
      "metadata": {
        "id": "MP9jovcEtKtG"
      },
      "source": [
        "# question 2\n",
        "# using one of the built-in functions for one of the libraries that you have learnt during this\n",
        "# course, define how many emails are spam (label_num=1) and how many emails are not spam\n",
        "# (label_num=0)."
      ],
      "execution_count": null,
      "outputs": []
    },
    {
      "cell_type": "code",
      "metadata": {
        "colab": {
          "base_uri": "https://localhost:8080/"
        },
        "id": "91LMajjgtTzj",
        "outputId": "1837f219-ae73-4319-a47c-5dc55849ab6f"
      },
      "source": [
        "ct = ham['label'].value_counts() \n",
        "ct"
      ],
      "execution_count": null,
      "outputs": [
        {
          "output_type": "execute_result",
          "data": {
            "text/plain": [
              "ham     3672\n",
              "spam    1499\n",
              "Name: label, dtype: int64"
            ]
          },
          "metadata": {
            "tags": []
          },
          "execution_count": 9
        }
      ]
    },
    {
      "cell_type": "code",
      "metadata": {
        "colab": {
          "base_uri": "https://localhost:8080/",
          "height": 300
        },
        "id": "ck1wpjdLzCKl",
        "outputId": "f4b48d9b-e02c-4293-e08d-b21edbc99e4c"
      },
      "source": [
        "# question 3\n",
        "# Plot a bar graph that shows the counts of spam and non-spam emails.\n",
        "ct.plot.bar()\n"
      ],
      "execution_count": null,
      "outputs": [
        {
          "output_type": "execute_result",
          "data": {
            "text/plain": [
              "<matplotlib.axes._subplots.AxesSubplot at 0x7fd3f81aa470>"
            ]
          },
          "metadata": {
            "tags": []
          },
          "execution_count": 10
        },
        {
          "output_type": "display_data",
          "data": {
            "image/png": "[encoded data removed]",
            "text/plain": [
              "<Figure size 432x288 with 1 Axes>"
            ]
          },
          "metadata": {
            "tags": [],
            "needs_background": "light"
          }
        }
      ]
    },
    {
      "cell_type": "code",
      "metadata": {
        "id": "-LnhbiuL2gK7"
      },
      "source": [
        "# question 4\n",
        "# Tokenize the email subject text of the 140th sample of the dataset once into words. How many\n",
        "# words have you got after tokenization?"
      ],
      "execution_count": null,
      "outputs": []
    },
    {
      "cell_type": "code",
      "metadata": {
        "id": "NczgJWo82nJD"
      },
      "source": [
        "t1 = ham.iloc[139][2]"
      ],
      "execution_count": null,
      "outputs": []
    },
    {
      "cell_type": "code",
      "metadata": {
        "colab": {
          "base_uri": "https://localhost:8080/"
        },
        "id": "PyuD_A-MzV-4",
        "outputId": "8270a8bf-5818-43ac-eec4-dacbaff25a9a"
      },
      "source": [
        "t1 = ham.iloc[139][2]\n",
        "import nltk\n",
        "from nltk.tokenize import sent_tokenize\n",
        "from nltk.tokenize import word_tokenize\n",
        "nltk.download('punkt') \n",
        "tokenized_word=word_tokenize(t1)\n",
        "from nltk.probability import FreqDist\n",
        "fdist = FreqDist(tokenized_word)\n",
        "\n",
        "fdist.most_common()"
      ],
      "execution_count": null,
      "outputs": [
        {
          "output_type": "stream",
          "text": [
            "[nltk_data] Downloading package punkt to /root/nltk_data...\n",
            "[nltk_data]   Unzipping tokenizers/punkt.zip.\n"
          ],
          "name": "stdout"
        },
        {
          "output_type": "execute_result",
          "data": {
            "text/plain": [
              "[(',', 13),\n",
              " ('i', 13),\n",
              " ('.', 13),\n",
              " ('and', 10),\n",
              " ('the', 8),\n",
              " ('my', 4),\n",
              " ('in', 4),\n",
              " ('bed', 4),\n",
              " ('he', 4),\n",
              " (\"'\", 3),\n",
              " ('heard', 3),\n",
              " ('to', 3),\n",
              " ('was', 3),\n",
              " ('s', 2),\n",
              " ('lay', 2),\n",
              " ('shower', 2),\n",
              " ('room', 2),\n",
              " ('of', 2),\n",
              " ('bobby', 2),\n",
              " ('again', 2),\n",
              " ('Subject', 1),\n",
              " (':', 1),\n",
              " ('brother', 1),\n",
              " ('dream', 1),\n",
              " ('one', 1),\n",
              " ('nlght', 1),\n",
              " ('reading', 1),\n",
              " ('robert', 1),\n",
              " ('singing', 1),\n",
              " ('a', 1),\n",
              " ('song', 1),\n",
              " ('gently', 1),\n",
              " ('then', 1),\n",
              " ('stopped', 1),\n",
              " ('waved', 1),\n",
              " ('good', 1),\n",
              " ('night', 1),\n",
              " ('as', 1),\n",
              " ('passed', 1),\n",
              " ('continued', 1),\n",
              " ('read', 1),\n",
              " ('about', 1),\n",
              " ('an', 1),\n",
              " ('hour', 1),\n",
              " ('later', 1),\n",
              " ('put', 1),\n",
              " ('book', 1),\n",
              " ('down', 1),\n",
              " ('turned', 1),\n",
              " ('off', 1),\n",
              " ('light', 1),\n",
              " ('go', 1),\n",
              " ('sleep', 1),\n",
              " ('tossing', 1),\n",
              " ('around', 1),\n",
              " ('suddenly', 1),\n",
              " ('moaning', 1),\n",
              " ('parents', 1),\n",
              " ('were', 1),\n",
              " ('on', 1),\n",
              " ('other', 1),\n",
              " ('side', 1),\n",
              " ('house', 1),\n",
              " ('knew', 1),\n",
              " ('it', 1),\n",
              " ('must', 1),\n",
              " ('be', 1),\n",
              " ('sat', 1),\n",
              " ('up', 1),\n",
              " ('moan', 1),\n",
              " ('didn', 1),\n",
              " ('t', 1),\n",
              " ('really', 1),\n",
              " ('know', 1),\n",
              " ('what', 1),\n",
              " ('matter', 1),\n",
              " ('got', 1),\n",
              " ('out', 1),\n",
              " ('went', 1),\n",
              " ('door', 1),\n",
              " ('open', 1),\n",
              " ('stepped', 1),\n",
              " ('inside', 1),\n",
              " ('moaned', 1),\n",
              " ('realized', 1),\n",
              " ('that', 1),\n",
              " ('click', 1),\n",
              " ('here', 1),\n",
              " ('see', 1),\n",
              " ('all', 1),\n",
              " ('this', 1),\n",
              " ('pics', 1),\n",
              " ('video', 1),\n",
              " ('!', 1),\n",
              " ('remove', 1),\n",
              " ('your', 1),\n",
              " ('email', 1)]"
            ]
          },
          "metadata": {
            "tags": []
          },
          "execution_count": 12
        }
      ]
    },
    {
      "cell_type": "code",
      "metadata": {
        "colab": {
          "base_uri": "https://localhost:8080/",
          "height": 103
        },
        "id": "lvEVbANF4lNw",
        "outputId": "e2f7a7e7-4005-4fab-ee57-115400f38562"
      },
      "source": [
        "# question 5\n",
        "#Clean the email subject text of the 1265th sample of the dataset by removing stopwords. How\n",
        "# many stopwords are in that text? Also, how many words are in the filtered/ clean text\n",
        "t2 = ham.iloc[1264][2]\n",
        "t2"
      ],
      "execution_count": null,
      "outputs": [
        {
          "output_type": "execute_result",
          "data": {
            "application/vnd.google.colaboratory.intrinsic+json": {
              "type": "string"
            },
            "text/plain": [
              "'Subject: flood pictures from the tunnels under pennzoil place in downtown\\r\\nhouston\\r\\nbammelyoungfamilies\\r\\n- - - - - - - - - - - - - - - - - - - - - - - - - - - listbot sponsor - - - - - - - - - - - - - - - - - - - - - - - - - -\\r\\nget a low apr nextcard visa in 30 seconds !\\r\\n1 . fill in the brief application\\r\\n2 . receive approval decision within 30 seconds\\r\\n3 . get rates as low as 2 . 99 % intro or 9 . 99 % ongoing apr and no\\r\\nannual fee !\\r\\napply now !\\r\\nhttp : / / www . bcentral . com / listbot / nextcard\\r\\nto unsubscribe , write to - unsubscribe @ listbot . com'"
            ]
          },
          "metadata": {
            "tags": []
          },
          "execution_count": 318
        }
      ]
    },
    {
      "cell_type": "code",
      "metadata": {
        "colab": {
          "base_uri": "https://localhost:8080/"
        },
        "id": "j2SaLnWetN9I",
        "outputId": "c542328c-363a-4e24-8a61-b4aed3f045c7"
      },
      "source": [
        "from nltk.corpus import stopwords\n",
        "nltk.download('stopwords') \n",
        "t2 = word_tokenize(t2.lower())\n",
        "a=set(stopwords.words('english'))\n",
        "stopwords = [x for x in t2 if x in a]\n",
        "print(stopwords) "
      ],
      "execution_count": null,
      "outputs": [
        {
          "output_type": "stream",
          "text": [
            "[nltk_data] Downloading package stopwords to /root/nltk_data...\n",
            "[nltk_data]   Package stopwords is already up-to-date!\n",
            "['from', 'the', 'under', 'in', 'a', 'in', 'in', 'the', 'as', 'as', 'or', 'and', 'no', 'now', 'to', 'to']\n"
          ],
          "name": "stdout"
        }
      ]
    },
    {
      "cell_type": "code",
      "metadata": {
        "colab": {
          "base_uri": "https://localhost:8080/"
        },
        "id": "4c80KIm_9dz1",
        "outputId": "7a1126e0-fff1-4ee8-cdee-24e4ac370970"
      },
      "source": [
        "# question 5.2, how many stopwords are in that text\n",
        "len(stopwords)"
      ],
      "execution_count": null,
      "outputs": [
        {
          "output_type": "execute_result",
          "data": {
            "text/plain": [
              "16"
            ]
          },
          "metadata": {
            "tags": []
          },
          "execution_count": 346
        }
      ]
    },
    {
      "cell_type": "code",
      "metadata": {
        "colab": {
          "base_uri": "https://localhost:8080/"
        },
        "id": "--ztAkOY9lh6",
        "outputId": "02c1c00c-8cd0-4718-8435-268f484ac4e7"
      },
      "source": [
        "non_stopwords = [x for x in t2 if x not in a]\n",
        "print(non_stopwords) \n",
        "a= print(non_stopwords) "
      ],
      "execution_count": null,
      "outputs": [
        {
          "output_type": "stream",
          "text": [
            "['subject', ':', 'flood', 'pictures', 'tunnels', 'pennzoil', 'place', 'downtown', 'houston', 'bammelyoungfamilies', '-', '-', '-', '-', '-', '-', '-', '-', '-', '-', '-', '-', '-', '-', '-', '-', '-', '-', '-', '-', '-', '-', '-', '-', '-', '-', '-', 'listbot', 'sponsor', '-', '-', '-', '-', '-', '-', '-', '-', '-', '-', '-', '-', '-', '-', '-', '-', '-', '-', '-', '-', '-', '-', '-', '-', '-', '-', 'get', 'low', 'apr', 'nextcard', 'visa', '30', 'seconds', '!', '1', '.', 'fill', 'brief', 'application', '2', '.', 'receive', 'approval', 'decision', 'within', '30', 'seconds', '3', '.', 'get', 'rates', 'low', '2', '.', '99', '%', 'intro', '9', '.', '99', '%', 'ongoing', 'apr', 'annual', 'fee', '!', 'apply', '!', 'http', ':', '/', '/', 'www', '.', 'bcentral', '.', 'com', '/', 'listbot', '/', 'nextcard', 'unsubscribe', ',', 'write', '-', 'unsubscribe', '@', 'listbot', '.', 'com']\n"
          ],
          "name": "stdout"
        }
      ]
    },
    {
      "cell_type": "code",
      "metadata": {
        "colab": {
          "base_uri": "https://localhost:8080/"
        },
        "id": "DkPifsIHHWZM",
        "outputId": "b5e53a36-ee3c-4661-a771-0b042e2e0d23"
      },
      "source": [
        "# question 5.3 how many words are in the filtered\n",
        "len(non_stopwords)"
      ],
      "execution_count": null,
      "outputs": [
        {
          "output_type": "execute_result",
          "data": {
            "text/plain": [
              "129"
            ]
          },
          "metadata": {
            "tags": []
          },
          "execution_count": 347
        }
      ]
    },
    {
      "cell_type": "code",
      "metadata": {
        "colab": {
          "base_uri": "https://localhost:8080/",
          "height": 103
        },
        "id": "xnnwxvqyDo2H",
        "outputId": "0e5be92b-5de8-499d-91fc-863ca950b7f0"
      },
      "source": [
        "# question 5.3  replace by the stopword-removed test \n",
        "\n",
        "t53 = ' '.join([str(elem) for elem in non_stopwords]) \n",
        "t53"
      ],
      "execution_count": null,
      "outputs": [
        {
          "output_type": "execute_result",
          "data": {
            "application/vnd.google.colaboratory.intrinsic+json": {
              "type": "string"
            },
            "text/plain": [
              "'subject : flood pictures tunnels pennzoil place downtown houston bammelyoungfamilies - - - - - - - - - - - - - - - - - - - - - - - - - - - listbot sponsor - - - - - - - - - - - - - - - - - - - - - - - - - - get low apr nextcard visa 30 seconds ! 1 . fill brief application 2 . receive approval decision within 30 seconds 3 . get rates low 2 . 99 % intro 9 . 99 % ongoing apr annual fee ! apply ! http : / / www . bcentral . com / listbot / nextcard unsubscribe , write - unsubscribe @ listbot . com'"
            ]
          },
          "metadata": {
            "tags": []
          },
          "execution_count": 355
        }
      ]
    },
    {
      "cell_type": "code",
      "metadata": {
        "id": "vPqg3ekRHHKF"
      },
      "source": [
        ""
      ],
      "execution_count": null,
      "outputs": []
    },
    {
      "cell_type": "code",
      "metadata": {
        "colab": {
          "base_uri": "https://localhost:8080/",
          "height": 103
        },
        "id": "9O84WL3YE6rb",
        "outputId": "8ab0df62-a241-4e43-cea8-5e6874ef2d98"
      },
      "source": [
        "ham['text'][1264]"
      ],
      "execution_count": null,
      "outputs": [
        {
          "output_type": "execute_result",
          "data": {
            "application/vnd.google.colaboratory.intrinsic+json": {
              "type": "string"
            },
            "text/plain": [
              "'subject : flood pictures tunnels pennzoil place downtown houston bammelyoungfamilies - - - - - - - - - - - - - - - - - - - - - - - - - - - listbot sponsor - - - - - - - - - - - - - - - - - - - - - - - - - - get low apr nextcard visa 30 seconds ! 1 . fill brief application 2 . receive approval decision within 30 seconds 3 . get rates low 2 . 99 % intro 9 . 99 % ongoing apr annual fee ! apply ! http : / / www . bcentral . com / listbot / nextcard unsubscribe , write - unsubscribe @ listbot . com'"
            ]
          },
          "metadata": {
            "tags": []
          },
          "execution_count": 374
        }
      ]
    },
    {
      "cell_type": "code",
      "metadata": {
        "id": "spIjV08eIZfm"
      },
      "source": [
        "# question 6\n",
        "Reduce the words of the email subject text of 1835th sample of the dataset to its word root\n",
        "by performing stemming and to its meaningful base by performing lemmatization. Next check\n",
        "if stemming and lemmatization outputs are equal."
      ],
      "execution_count": null,
      "outputs": []
    },
    {
      "cell_type": "code",
      "metadata": {
        "colab": {
          "base_uri": "https://localhost:8080/"
        },
        "id": "zsPddkXuIyi2",
        "outputId": "4313306d-3226-4f73-eb7f-5ed2d82f9d38"
      },
      "source": [
        "t4 = ham.iloc[1834][2]\n",
        "t4 = word_tokenize(t4.lower())\n",
        "t4"
      ],
      "execution_count": null,
      "outputs": [
        {
          "output_type": "execute_result",
          "data": {
            "text/plain": [
              "['subject',\n",
              " ':',\n",
              " 'software',\n",
              " 'at',\n",
              " 'incredibly',\n",
              " 'low',\n",
              " 'prices',\n",
              " '(',\n",
              " '83',\n",
              " '%',\n",
              " 'lower',\n",
              " ')',\n",
              " '.',\n",
              " 'unconscionable',\n",
              " 'botching',\n",
              " 'gentle',\n",
              " 'always',\n",
              " ',',\n",
              " 'vary',\n",
              " 'both',\n",
              " 'river',\n",
              " 'joy',\n",
              " 'hour',\n",
              " '.',\n",
              " 'against',\n",
              " 'phrase',\n",
              " 'early',\n",
              " 'hair',\n",
              " ',',\n",
              " 'grass',\n",
              " 'century',\n",
              " ',',\n",
              " 'numeral',\n",
              " '.',\n",
              " 'verb',\n",
              " ',',\n",
              " 'wire',\n",
              " 'as',\n",
              " '.',\n",
              " 'behind',\n",
              " 'thousand',\n",
              " ',',\n",
              " 'face',\n",
              " ',',\n",
              " 'common',\n",
              " '.',\n",
              " 'fine',\n",
              " 'does',\n",
              " 'low',\n",
              " ',',\n",
              " 'snow',\n",
              " '.',\n",
              " 'long',\n",
              " 'lie',\n",
              " 'case',\n",
              " 'wash',\n",
              " 'job',\n",
              " 'complete',\n",
              " 'each',\n",
              " '.',\n",
              " 'make',\n",
              " 'cover',\n",
              " 'bank',\n",
              " 'by',\n",
              " 'where',\n",
              " '.',\n",
              " 'hit',\n",
              " 'soldier',\n",
              " 'serve',\n",
              " 'at',\n",
              " 'well',\n",
              " 'force',\n",
              " '.',\n",
              " 'fly',\n",
              " 'early',\n",
              " 'every',\n",
              " '.',\n",
              " 'round',\n",
              " 'laugh',\n",
              " 'their',\n",
              " '.',\n",
              " 'where',\n",
              " ',',\n",
              " 'smell',\n",
              " 'mind',\n",
              " '.',\n",
              " 'rather',\n",
              " 'strong',\n",
              " 'village',\n",
              " 'lay',\n",
              " '.',\n",
              " 'some',\n",
              " 'fraction',\n",
              " 'we',\n",
              " 'north',\n",
              " 'trade',\n",
              " 'sit',\n",
              " ',',\n",
              " 'particular',\n",
              " '.']"
            ]
          },
          "metadata": {
            "tags": []
          },
          "execution_count": 529
        }
      ]
    },
    {
      "cell_type": "code",
      "metadata": {
        "colab": {
          "base_uri": "https://localhost:8080/"
        },
        "id": "ihJ3qDovhXIZ",
        "outputId": "1e6cb06b-47d0-4d25-84e7-64f17cc24fab"
      },
      "source": [
        "# question 6.1\n",
        "#from nltk.corpus import stopwords\n",
        "#nltk.download('stopwords') # to download stop words for English\n",
        "#a=set(stopwords.words('english'))\n",
        "#stopwords = [x for x in t4 if x in a]\n",
        "#t4 =  [x for x in t4 if x not in a]\n",
        "#from nltk.stem import PorterStemmer\n",
        "pst = PorterStemmer()\n",
        "stemlist = []\n",
        "for a in t4: \n",
        "  (pst.stem(a))\n",
        "  stemlist.append(pst.stem(a))\n",
        "print(stemlist)"
      ],
      "execution_count": null,
      "outputs": [
        {
          "output_type": "stream",
          "text": [
            "['subject', ':', 'softwar', 'at', 'incred', 'low', 'price', '(', '83', '%', 'lower', ')', '.', 'unconscion', 'botch', 'gentl', 'alway', ',', 'vari', 'both', 'river', 'joy', 'hour', '.', 'against', 'phrase', 'earli', 'hair', ',', 'grass', 'centuri', ',', 'numer', '.', 'verb', ',', 'wire', 'as', '.', 'behind', 'thousand', ',', 'face', ',', 'common', '.', 'fine', 'doe', 'low', ',', 'snow', '.', 'long', 'lie', 'case', 'wash', 'job', 'complet', 'each', '.', 'make', 'cover', 'bank', 'by', 'where', '.', 'hit', 'soldier', 'serv', 'at', 'well', 'forc', '.', 'fli', 'earli', 'everi', '.', 'round', 'laugh', 'their', '.', 'where', ',', 'smell', 'mind', '.', 'rather', 'strong', 'villag', 'lay', '.', 'some', 'fraction', 'we', 'north', 'trade', 'sit', ',', 'particular', '.']\n"
          ],
          "name": "stdout"
        }
      ]
    },
    {
      "cell_type": "code",
      "metadata": {
        "colab": {
          "base_uri": "https://localhost:8080/",
          "height": 164
        },
        "id": "1Fx6HZg0IAe3",
        "outputId": "b05c1866-6ad6-4be3-dd4b-3147bc356f38"
      },
      "source": [
        "len(stemlist)"
      ],
      "execution_count": null,
      "outputs": [
        {
          "output_type": "error",
          "ename": "TypeError",
          "evalue": "ignored",
          "traceback": [
            "\u001b[0;31m---------------------------------------------------------------------------\u001b[0m",
            "\u001b[0;31mTypeError\u001b[0m                                 Traceback (most recent call last)",
            "\u001b[0;32m<ipython-input-548-1a165da7f09a>\u001b[0m in \u001b[0;36m<module>\u001b[0;34m()\u001b[0m\n\u001b[0;32m----> 1\u001b[0;31m \u001b[0mlen\u001b[0m\u001b[0;34m(\u001b[0m\u001b[0mstemlist\u001b[0m\u001b[0;34m)\u001b[0m\u001b[0;34m\u001b[0m\u001b[0;34m\u001b[0m\u001b[0m\n\u001b[0m",
            "\u001b[0;31mTypeError\u001b[0m: 'WordNetLemmatizer' object is not callable"
          ]
        }
      ]
    },
    {
      "cell_type": "code",
      "metadata": {
        "colab": {
          "base_uri": "https://localhost:8080/"
        },
        "id": "mxDjM_1VLM3V",
        "outputId": "ea0d9343-3869-4b84-85bb-e35156caea9f"
      },
      "source": [
        "# question 6.2\n",
        "from nltk.stem.wordnet import WordNetLemmatizer\n",
        "nltk.download('wordnet')\n",
        "lem = WordNetLemmatizer()\n",
        "lemlist = []\n",
        "for a in t4:\n",
        "  lem.lemmatize(a)\n",
        "  lemlist.append(lem.lemmatize(a))\n",
        "print(lemlist)\n"
      ],
      "execution_count": null,
      "outputs": [
        {
          "output_type": "stream",
          "text": [
            "[nltk_data] Downloading package wordnet to /root/nltk_data...\n",
            "[nltk_data]   Package wordnet is already up-to-date!\n",
            "['subject', ':', 'software', 'at', 'incredibly', 'low', 'price', '(', '83', '%', 'lower', ')', '.', 'unconscionable', 'botching', 'gentle', 'always', ',', 'vary', 'both', 'river', 'joy', 'hour', '.', 'against', 'phrase', 'early', 'hair', ',', 'grass', 'century', ',', 'numeral', '.', 'verb', ',', 'wire', 'a', '.', 'behind', 'thousand', ',', 'face', ',', 'common', '.', 'fine', 'doe', 'low', ',', 'snow', '.', 'long', 'lie', 'case', 'wash', 'job', 'complete', 'each', '.', 'make', 'cover', 'bank', 'by', 'where', '.', 'hit', 'soldier', 'serve', 'at', 'well', 'force', '.', 'fly', 'early', 'every', '.', 'round', 'laugh', 'their', '.', 'where', ',', 'smell', 'mind', '.', 'rather', 'strong', 'village', 'lay', '.', 'some', 'fraction', 'we', 'north', 'trade', 'sit', ',', 'particular', '.']\n"
          ],
          "name": "stdout"
        }
      ]
    },
    {
      "cell_type": "code",
      "metadata": {
        "colab": {
          "base_uri": "https://localhost:8080/"
        },
        "id": "6EM69aB0H48q",
        "outputId": "178bb56b-41e5-40b5-eb9a-22de0bbe62ca"
      },
      "source": [
        "type(lemlist)"
      ],
      "execution_count": null,
      "outputs": [
        {
          "output_type": "execute_result",
          "data": {
            "text/plain": [
              "list"
            ]
          },
          "metadata": {
            "tags": []
          },
          "execution_count": 606
        }
      ]
    },
    {
      "cell_type": "code",
      "metadata": {
        "colab": {
          "base_uri": "https://localhost:8080/",
          "height": 164
        },
        "id": "3kig790XTqUd",
        "outputId": "f9618e1f-c0f5-498f-d713-e87b192d6963"
      },
      "source": [
        ""
      ],
      "execution_count": null,
      "outputs": [
        {
          "output_type": "error",
          "ename": "TypeError",
          "evalue": "ignored",
          "traceback": [
            "\u001b[0;31m---------------------------------------------------------------------------\u001b[0m",
            "\u001b[0;31mTypeError\u001b[0m                                 Traceback (most recent call last)",
            "\u001b[0;32m<ipython-input-607-d84152de9bfe>\u001b[0m in \u001b[0;36m<module>\u001b[0;34m()\u001b[0m\n\u001b[0;32m----> 1\u001b[0;31m \u001b[0mlen\u001b[0m\u001b[0;34m(\u001b[0m\u001b[0mlemlist\u001b[0m\u001b[0;34m)\u001b[0m\u001b[0;34m\u001b[0m\u001b[0;34m\u001b[0m\u001b[0m\n\u001b[0m",
            "\u001b[0;31mTypeError\u001b[0m: 'WordNetLemmatizer' object is not callable"
          ]
        }
      ]
    },
    {
      "cell_type": "code",
      "metadata": {
        "colab": {
          "base_uri": "https://localhost:8080/"
        },
        "id": "k81KvXzhBZ3x",
        "outputId": "6eb65fa1-df39-46f9-c838-a0db073f1733"
      },
      "source": [
        "## question 6.3 check if eual \n",
        "if stemlist == lemlist:\n",
        "   print('they are eual')\n",
        "else:\n",
        "   print('they are not eual')"
      ],
      "execution_count": null,
      "outputs": [
        {
          "output_type": "stream",
          "text": [
            "they are not eual\n"
          ],
          "name": "stdout"
        }
      ]
    },
    {
      "cell_type": "code",
      "metadata": {
        "colab": {
          "base_uri": "https://localhost:8080/",
          "height": 35
        },
        "id": "VbhJBbhlBIyi",
        "outputId": "38719488-b4c3-4f0c-a69d-001541016345"
      },
      "source": [
        ""
      ],
      "execution_count": null,
      "outputs": [
        {
          "output_type": "execute_result",
          "data": {
            "application/vnd.google.colaboratory.intrinsic+json": {
              "type": "string"
            },
            "text/plain": [
              "'.'"
            ]
          },
          "metadata": {
            "tags": []
          },
          "execution_count": 477
        }
      ]
    },
    {
      "cell_type": "code",
      "metadata": {
        "id": "2EF937V9hp0Z"
      },
      "source": [
        "# # question 7\n",
        "Make a part of speech (POS) tagging to words of the email subject text of the 5011th sample\n",
        "of the dataset and print the POS tag of each word as well as its description by querying about\n",
        "it."
      ],
      "execution_count": null,
      "outputs": []
    },
    {
      "cell_type": "code",
      "metadata": {
        "colab": {
          "base_uri": "https://localhost:8080/",
          "height": 154
        },
        "id": "r2WuhrNAl8hL",
        "outputId": "b16c0c39-5bee-4053-ed6a-4da724ca8b18"
      },
      "source": [
        "ham.iloc[5010][2]"
      ],
      "execution_count": null,
      "outputs": [
        {
          "output_type": "execute_result",
          "data": {
            "application/vnd.google.colaboratory.intrinsic+json": {
              "type": "string"
            },
            "text/plain": [
              "'Subject: browse our site for awesome specials on medicines .\\r\\nare you curious where people locate highest quality rxmeds at reduced\\r\\nprices ? at our chemist - site , you will know the answer . at our store , your\\r\\nor - der will be sent by experienced logistic companies .\\r\\nsearch our site and flnd the bestddeals for you novv !\\r\\nhttp : / / op . 1 aro . starttosucceed . com / tnh /\\r\\nour company provides a wide selection of medsrx on pain , swelling , male\\r\\norgan dysfunction , stress , cholesterol , muscle - relaxant , obesity and\\r\\nsleeping disorder . it is your chance to experience our timely logistic\\r\\nservices .\\r\\nevening , until he boiled over in the exclamation , at on the ground , wind\\r\\nlunacy ! porter ! madness ! hink i shal made toboil in it , the bells began\\r\\nto pla such\\r\\nand when the bear came up and felt 8 a disturbance him with his snout , and\\r\\nsmelt 3 just now ,\\r\\n'"
            ]
          },
          "metadata": {
            "tags": []
          },
          "execution_count": 167
        }
      ]
    },
    {
      "cell_type": "code",
      "metadata": {
        "colab": {
          "base_uri": "https://localhost:8080/"
        },
        "id": "tLooLmXeh0rh",
        "outputId": "bf8421f8-a0ca-499e-8c90-c331bf68d920"
      },
      "source": [
        "t5 = ham.iloc[5010][2]\n",
        "t5\n",
        "t5=nltk.word_tokenize(t5)\n",
        "\n",
        "\n",
        "t5"
      ],
      "execution_count": null,
      "outputs": [
        {
          "output_type": "execute_result",
          "data": {
            "text/plain": [
              "['Subject',\n",
              " ':',\n",
              " 'browse',\n",
              " 'our',\n",
              " 'site',\n",
              " 'for',\n",
              " 'awesome',\n",
              " 'specials',\n",
              " 'on',\n",
              " 'medicines',\n",
              " '.',\n",
              " 'are',\n",
              " 'you',\n",
              " 'curious',\n",
              " 'where',\n",
              " 'people',\n",
              " 'locate',\n",
              " 'highest',\n",
              " 'quality',\n",
              " 'rxmeds',\n",
              " 'at',\n",
              " 'reduced',\n",
              " 'prices',\n",
              " '?',\n",
              " 'at',\n",
              " 'our',\n",
              " 'chemist',\n",
              " '-',\n",
              " 'site',\n",
              " ',',\n",
              " 'you',\n",
              " 'will',\n",
              " 'know',\n",
              " 'the',\n",
              " 'answer',\n",
              " '.',\n",
              " 'at',\n",
              " 'our',\n",
              " 'store',\n",
              " ',',\n",
              " 'your',\n",
              " 'or',\n",
              " '-',\n",
              " 'der',\n",
              " 'will',\n",
              " 'be',\n",
              " 'sent',\n",
              " 'by',\n",
              " 'experienced',\n",
              " 'logistic',\n",
              " 'companies',\n",
              " '.',\n",
              " 'search',\n",
              " 'our',\n",
              " 'site',\n",
              " 'and',\n",
              " 'flnd',\n",
              " 'the',\n",
              " 'bestddeals',\n",
              " 'for',\n",
              " 'you',\n",
              " 'novv',\n",
              " '!',\n",
              " 'http',\n",
              " ':',\n",
              " '/',\n",
              " '/',\n",
              " 'op',\n",
              " '.',\n",
              " '1',\n",
              " 'aro',\n",
              " '.',\n",
              " 'starttosucceed',\n",
              " '.',\n",
              " 'com',\n",
              " '/',\n",
              " 'tnh',\n",
              " '/',\n",
              " 'our',\n",
              " 'company',\n",
              " 'provides',\n",
              " 'a',\n",
              " 'wide',\n",
              " 'selection',\n",
              " 'of',\n",
              " 'medsrx',\n",
              " 'on',\n",
              " 'pain',\n",
              " ',',\n",
              " 'swelling',\n",
              " ',',\n",
              " 'male',\n",
              " 'organ',\n",
              " 'dysfunction',\n",
              " ',',\n",
              " 'stress',\n",
              " ',',\n",
              " 'cholesterol',\n",
              " ',',\n",
              " 'muscle',\n",
              " '-',\n",
              " 'relaxant',\n",
              " ',',\n",
              " 'obesity',\n",
              " 'and',\n",
              " 'sleeping',\n",
              " 'disorder',\n",
              " '.',\n",
              " 'it',\n",
              " 'is',\n",
              " 'your',\n",
              " 'chance',\n",
              " 'to',\n",
              " 'experience',\n",
              " 'our',\n",
              " 'timely',\n",
              " 'logistic',\n",
              " 'services',\n",
              " '.',\n",
              " 'evening',\n",
              " ',',\n",
              " 'until',\n",
              " 'he',\n",
              " 'boiled',\n",
              " 'over',\n",
              " 'in',\n",
              " 'the',\n",
              " 'exclamation',\n",
              " ',',\n",
              " 'at',\n",
              " 'on',\n",
              " 'the',\n",
              " 'ground',\n",
              " ',',\n",
              " 'wind',\n",
              " 'lunacy',\n",
              " '!',\n",
              " 'porter',\n",
              " '!',\n",
              " 'madness',\n",
              " '!',\n",
              " 'hink',\n",
              " 'i',\n",
              " 'shal',\n",
              " 'made',\n",
              " 'toboil',\n",
              " 'in',\n",
              " 'it',\n",
              " ',',\n",
              " 'the',\n",
              " 'bells',\n",
              " 'began',\n",
              " 'to',\n",
              " 'pla',\n",
              " 'such',\n",
              " 'and',\n",
              " 'when',\n",
              " 'the',\n",
              " 'bear',\n",
              " 'came',\n",
              " 'up',\n",
              " 'and',\n",
              " 'felt',\n",
              " '8',\n",
              " 'a',\n",
              " 'disturbance',\n",
              " 'him',\n",
              " 'with',\n",
              " 'his',\n",
              " 'snout',\n",
              " ',',\n",
              " 'and',\n",
              " 'smelt',\n",
              " '3',\n",
              " 'just',\n",
              " 'now',\n",
              " ',']"
            ]
          },
          "metadata": {
            "tags": []
          },
          "execution_count": 171
        }
      ]
    },
    {
      "cell_type": "code",
      "metadata": {
        "colab": {
          "base_uri": "https://localhost:8080/"
        },
        "id": "gmxlUPGTlTVY",
        "outputId": "b7cb0c3f-0143-4bb1-aa1e-381a86f20274"
      },
      "source": [
        "t5_postag=nltk.pos_tag(t5)\n",
        "t5_postag\n",
        "#for a in t5_postag:\n",
        "#print(nltk.help.upenn_tagset(t5_postag))"
      ],
      "execution_count": null,
      "outputs": [
        {
          "output_type": "execute_result",
          "data": {
            "text/plain": [
              "[('Subject', 'JJ'),\n",
              " (':', ':'),\n",
              " ('browse', 'VB'),\n",
              " ('our', 'PRP$'),\n",
              " ('site', 'NN'),\n",
              " ('for', 'IN'),\n",
              " ('awesome', 'JJ'),\n",
              " ('specials', 'NNS'),\n",
              " ('on', 'IN'),\n",
              " ('medicines', 'NNS'),\n",
              " ('.', '.'),\n",
              " ('are', 'VBP'),\n",
              " ('you', 'PRP'),\n",
              " ('curious', 'JJ'),\n",
              " ('where', 'WRB'),\n",
              " ('people', 'NNS'),\n",
              " ('locate', 'VBP'),\n",
              " ('highest', 'JJS'),\n",
              " ('quality', 'NN'),\n",
              " ('rxmeds', 'NNS'),\n",
              " ('at', 'IN'),\n",
              " ('reduced', 'JJ'),\n",
              " ('prices', 'NNS'),\n",
              " ('?', '.'),\n",
              " ('at', 'IN'),\n",
              " ('our', 'PRP$'),\n",
              " ('chemist', 'NN'),\n",
              " ('-', ':'),\n",
              " ('site', 'NN'),\n",
              " (',', ','),\n",
              " ('you', 'PRP'),\n",
              " ('will', 'MD'),\n",
              " ('know', 'VB'),\n",
              " ('the', 'DT'),\n",
              " ('answer', 'NN'),\n",
              " ('.', '.'),\n",
              " ('at', 'IN'),\n",
              " ('our', 'PRP$'),\n",
              " ('store', 'NN'),\n",
              " (',', ','),\n",
              " ('your', 'PRP$'),\n",
              " ('or', 'CC'),\n",
              " ('-', ':'),\n",
              " ('der', 'NN'),\n",
              " ('will', 'MD'),\n",
              " ('be', 'VB'),\n",
              " ('sent', 'VBN'),\n",
              " ('by', 'IN'),\n",
              " ('experienced', 'JJ'),\n",
              " ('logistic', 'JJ'),\n",
              " ('companies', 'NNS'),\n",
              " ('.', '.'),\n",
              " ('search', 'VB'),\n",
              " ('our', 'PRP$'),\n",
              " ('site', 'NN'),\n",
              " ('and', 'CC'),\n",
              " ('flnd', 'VB'),\n",
              " ('the', 'DT'),\n",
              " ('bestddeals', 'NNS'),\n",
              " ('for', 'IN'),\n",
              " ('you', 'PRP'),\n",
              " ('novv', 'VBP'),\n",
              " ('!', '.'),\n",
              " ('http', 'NN'),\n",
              " (':', ':'),\n",
              " ('/', 'JJ'),\n",
              " ('/', 'NNP'),\n",
              " ('op', 'NN'),\n",
              " ('.', '.'),\n",
              " ('1', 'CD'),\n",
              " ('aro', 'NN'),\n",
              " ('.', '.'),\n",
              " ('starttosucceed', 'NN'),\n",
              " ('.', '.'),\n",
              " ('com', 'NN'),\n",
              " ('/', 'JJ'),\n",
              " ('tnh', 'NN'),\n",
              " ('/', 'IN'),\n",
              " ('our', 'PRP$'),\n",
              " ('company', 'NN'),\n",
              " ('provides', 'VBZ'),\n",
              " ('a', 'DT'),\n",
              " ('wide', 'JJ'),\n",
              " ('selection', 'NN'),\n",
              " ('of', 'IN'),\n",
              " ('medsrx', 'NN'),\n",
              " ('on', 'IN'),\n",
              " ('pain', 'NN'),\n",
              " (',', ','),\n",
              " ('swelling', 'VBG'),\n",
              " (',', ','),\n",
              " ('male', 'JJ'),\n",
              " ('organ', 'JJ'),\n",
              " ('dysfunction', 'NN'),\n",
              " (',', ','),\n",
              " ('stress', 'NN'),\n",
              " (',', ','),\n",
              " ('cholesterol', 'NN'),\n",
              " (',', ','),\n",
              " ('muscle', 'NN'),\n",
              " ('-', ':'),\n",
              " ('relaxant', 'NN'),\n",
              " (',', ','),\n",
              " ('obesity', 'NN'),\n",
              " ('and', 'CC'),\n",
              " ('sleeping', 'VBG'),\n",
              " ('disorder', 'NN'),\n",
              " ('.', '.'),\n",
              " ('it', 'PRP'),\n",
              " ('is', 'VBZ'),\n",
              " ('your', 'PRP$'),\n",
              " ('chance', 'NN'),\n",
              " ('to', 'TO'),\n",
              " ('experience', 'VB'),\n",
              " ('our', 'PRP$'),\n",
              " ('timely', 'JJ'),\n",
              " ('logistic', 'JJ'),\n",
              " ('services', 'NNS'),\n",
              " ('.', '.'),\n",
              " ('evening', 'NN'),\n",
              " (',', ','),\n",
              " ('until', 'IN'),\n",
              " ('he', 'PRP'),\n",
              " ('boiled', 'VBD'),\n",
              " ('over', 'RP'),\n",
              " ('in', 'IN'),\n",
              " ('the', 'DT'),\n",
              " ('exclamation', 'NN'),\n",
              " (',', ','),\n",
              " ('at', 'IN'),\n",
              " ('on', 'IN'),\n",
              " ('the', 'DT'),\n",
              " ('ground', 'NN'),\n",
              " (',', ','),\n",
              " ('wind', 'IN'),\n",
              " ('lunacy', 'NN'),\n",
              " ('!', '.'),\n",
              " ('porter', 'NN'),\n",
              " ('!', '.'),\n",
              " ('madness', 'NN'),\n",
              " ('!', '.'),\n",
              " ('hink', 'NN'),\n",
              " ('i', 'NN'),\n",
              " ('shal', 'VBP'),\n",
              " ('made', 'VBN'),\n",
              " ('toboil', 'NN'),\n",
              " ('in', 'IN'),\n",
              " ('it', 'PRP'),\n",
              " (',', ','),\n",
              " ('the', 'DT'),\n",
              " ('bells', 'NNS'),\n",
              " ('began', 'VBD'),\n",
              " ('to', 'TO'),\n",
              " ('pla', 'VB'),\n",
              " ('such', 'JJ'),\n",
              " ('and', 'CC'),\n",
              " ('when', 'WRB'),\n",
              " ('the', 'DT'),\n",
              " ('bear', 'NN'),\n",
              " ('came', 'VBD'),\n",
              " ('up', 'RB'),\n",
              " ('and', 'CC'),\n",
              " ('felt', 'VBD'),\n",
              " ('8', 'CD'),\n",
              " ('a', 'DT'),\n",
              " ('disturbance', 'NN'),\n",
              " ('him', 'PRP'),\n",
              " ('with', 'IN'),\n",
              " ('his', 'PRP$'),\n",
              " ('snout', 'NN'),\n",
              " (',', ','),\n",
              " ('and', 'CC'),\n",
              " ('smelt', 'VBD'),\n",
              " ('3', 'CD'),\n",
              " ('just', 'RB'),\n",
              " ('now', 'RB'),\n",
              " (',', ',')]"
            ]
          },
          "metadata": {
            "tags": []
          },
          "execution_count": 223
        }
      ]
    },
    {
      "cell_type": "code",
      "metadata": {
        "colab": {
          "base_uri": "https://localhost:8080/",
          "height": 35
        },
        "id": "w2ezwe9qSBOb",
        "outputId": "e17a42c0-5960-44f3-c896-141abce8a59b"
      },
      "source": [
        "t5_postag[0][1]"
      ],
      "execution_count": null,
      "outputs": [
        {
          "output_type": "execute_result",
          "data": {
            "application/vnd.google.colaboratory.intrinsic+json": {
              "type": "string"
            },
            "text/plain": [
              "'JJ'"
            ]
          },
          "metadata": {
            "tags": []
          },
          "execution_count": 596
        }
      ]
    },
    {
      "cell_type": "code",
      "metadata": {
        "colab": {
          "base_uri": "https://localhost:8080/"
        },
        "id": "NY1eyguKRO5-",
        "outputId": "47badd63-6ae1-4a5e-a50b-4a52715b99a6"
      },
      "source": [
        "for tag in t5_postag: \n",
        "  print(tag)\n",
        "  nltk.help.upenn_tagset(tag[1]) "
      ],
      "execution_count": null,
      "outputs": [
        {
          "output_type": "stream",
          "text": [
            "('Subject', 'JJ')\n",
            "JJ: adjective or numeral, ordinal\n",
            "    third ill-mannered pre-war regrettable oiled calamitous first separable\n",
            "    ectoplasmic battery-powered participatory fourth still-to-be-named\n",
            "    multilingual multi-disciplinary ...\n",
            "(':', ':')\n",
            ":: colon or ellipsis\n",
            "    : ; ...\n",
            "('browse', 'VB')\n",
            "VB: verb, base form\n",
            "    ask assemble assess assign assume atone attention avoid bake balkanize\n",
            "    bank begin behold believe bend benefit bevel beware bless boil bomb\n",
            "    boost brace break bring broil brush build ...\n",
            "('our', 'PRP$')\n",
            "PRP$: pronoun, possessive\n",
            "    her his mine my our ours their thy your\n",
            "('site', 'NN')\n",
            "NN: noun, common, singular or mass\n",
            "    common-carrier cabbage knuckle-duster Casino afghan shed thermostat\n",
            "    investment slide humour falloff slick wind hyena override subhumanity\n",
            "    machinist ...\n",
            "('for', 'IN')\n",
            "IN: preposition or conjunction, subordinating\n",
            "    astride among uppon whether out inside pro despite on by throughout\n",
            "    below within for towards near behind atop around if like until below\n",
            "    next into if beside ...\n",
            "('awesome', 'JJ')\n",
            "JJ: adjective or numeral, ordinal\n",
            "    third ill-mannered pre-war regrettable oiled calamitous first separable\n",
            "    ectoplasmic battery-powered participatory fourth still-to-be-named\n",
            "    multilingual multi-disciplinary ...\n",
            "('specials', 'NNS')\n",
            "NNS: noun, common, plural\n",
            "    undergraduates scotches bric-a-brac products bodyguards facets coasts\n",
            "    divestitures storehouses designs clubs fragrances averages\n",
            "    subjectivists apprehensions muses factory-jobs ...\n",
            "('on', 'IN')\n",
            "IN: preposition or conjunction, subordinating\n",
            "    astride among uppon whether out inside pro despite on by throughout\n",
            "    below within for towards near behind atop around if like until below\n",
            "    next into if beside ...\n",
            "('medicines', 'NNS')\n",
            "NNS: noun, common, plural\n",
            "    undergraduates scotches bric-a-brac products bodyguards facets coasts\n",
            "    divestitures storehouses designs clubs fragrances averages\n",
            "    subjectivists apprehensions muses factory-jobs ...\n",
            "('.', '.')\n",
            ".: sentence terminator\n",
            "    . ! ?\n",
            "('are', 'VBP')\n",
            "VBP: verb, present tense, not 3rd person singular\n",
            "    predominate wrap resort sue twist spill cure lengthen brush terminate\n",
            "    appear tend stray glisten obtain comprise detest tease attract\n",
            "    emphasize mold postpone sever return wag ...\n",
            "('you', 'PRP')\n",
            "PRP: pronoun, personal\n",
            "    hers herself him himself hisself it itself me myself one oneself ours\n",
            "    ourselves ownself self she thee theirs them themselves they thou thy us\n",
            "('curious', 'JJ')\n",
            "JJ: adjective or numeral, ordinal\n",
            "    third ill-mannered pre-war regrettable oiled calamitous first separable\n",
            "    ectoplasmic battery-powered participatory fourth still-to-be-named\n",
            "    multilingual multi-disciplinary ...\n",
            "('where', 'WRB')\n",
            "WRB: Wh-adverb\n",
            "    how however whence whenever where whereby whereever wherein whereof why\n",
            "('people', 'NNS')\n",
            "NNS: noun, common, plural\n",
            "    undergraduates scotches bric-a-brac products bodyguards facets coasts\n",
            "    divestitures storehouses designs clubs fragrances averages\n",
            "    subjectivists apprehensions muses factory-jobs ...\n",
            "('locate', 'VBP')\n",
            "VBP: verb, present tense, not 3rd person singular\n",
            "    predominate wrap resort sue twist spill cure lengthen brush terminate\n",
            "    appear tend stray glisten obtain comprise detest tease attract\n",
            "    emphasize mold postpone sever return wag ...\n",
            "('highest', 'JJS')\n",
            "JJS: adjective, superlative\n",
            "    calmest cheapest choicest classiest cleanest clearest closest commonest\n",
            "    corniest costliest crassest creepiest crudest cutest darkest deadliest\n",
            "    dearest deepest densest dinkiest ...\n",
            "('quality', 'NN')\n",
            "NN: noun, common, singular or mass\n",
            "    common-carrier cabbage knuckle-duster Casino afghan shed thermostat\n",
            "    investment slide humour falloff slick wind hyena override subhumanity\n",
            "    machinist ...\n",
            "('rxmeds', 'NNS')\n",
            "NNS: noun, common, plural\n",
            "    undergraduates scotches bric-a-brac products bodyguards facets coasts\n",
            "    divestitures storehouses designs clubs fragrances averages\n",
            "    subjectivists apprehensions muses factory-jobs ...\n",
            "('at', 'IN')\n",
            "IN: preposition or conjunction, subordinating\n",
            "    astride among uppon whether out inside pro despite on by throughout\n",
            "    below within for towards near behind atop around if like until below\n",
            "    next into if beside ...\n",
            "('reduced', 'JJ')\n",
            "JJ: adjective or numeral, ordinal\n",
            "    third ill-mannered pre-war regrettable oiled calamitous first separable\n",
            "    ectoplasmic battery-powered participatory fourth still-to-be-named\n",
            "    multilingual multi-disciplinary ...\n",
            "('prices', 'NNS')\n",
            "NNS: noun, common, plural\n",
            "    undergraduates scotches bric-a-brac products bodyguards facets coasts\n",
            "    divestitures storehouses designs clubs fragrances averages\n",
            "    subjectivists apprehensions muses factory-jobs ...\n",
            "('?', '.')\n",
            ".: sentence terminator\n",
            "    . ! ?\n",
            "('at', 'IN')\n",
            "IN: preposition or conjunction, subordinating\n",
            "    astride among uppon whether out inside pro despite on by throughout\n",
            "    below within for towards near behind atop around if like until below\n",
            "    next into if beside ...\n",
            "('our', 'PRP$')\n",
            "PRP$: pronoun, possessive\n",
            "    her his mine my our ours their thy your\n",
            "('chemist', 'NN')\n",
            "NN: noun, common, singular or mass\n",
            "    common-carrier cabbage knuckle-duster Casino afghan shed thermostat\n",
            "    investment slide humour falloff slick wind hyena override subhumanity\n",
            "    machinist ...\n",
            "('-', ':')\n",
            ":: colon or ellipsis\n",
            "    : ; ...\n",
            "('site', 'NN')\n",
            "NN: noun, common, singular or mass\n",
            "    common-carrier cabbage knuckle-duster Casino afghan shed thermostat\n",
            "    investment slide humour falloff slick wind hyena override subhumanity\n",
            "    machinist ...\n",
            "(',', ',')\n",
            ",: comma\n",
            "    ,\n",
            "('you', 'PRP')\n",
            "PRP: pronoun, personal\n",
            "    hers herself him himself hisself it itself me myself one oneself ours\n",
            "    ourselves ownself self she thee theirs them themselves they thou thy us\n",
            "('will', 'MD')\n",
            "MD: modal auxiliary\n",
            "    can cannot could couldn't dare may might must need ought shall should\n",
            "    shouldn't will would\n",
            "('know', 'VB')\n",
            "VB: verb, base form\n",
            "    ask assemble assess assign assume atone attention avoid bake balkanize\n",
            "    bank begin behold believe bend benefit bevel beware bless boil bomb\n",
            "    boost brace break bring broil brush build ...\n",
            "('the', 'DT')\n",
            "DT: determiner\n",
            "    all an another any both del each either every half la many much nary\n",
            "    neither no some such that the them these this those\n",
            "('answer', 'NN')\n",
            "NN: noun, common, singular or mass\n",
            "    common-carrier cabbage knuckle-duster Casino afghan shed thermostat\n",
            "    investment slide humour falloff slick wind hyena override subhumanity\n",
            "    machinist ...\n",
            "('.', '.')\n",
            ".: sentence terminator\n",
            "    . ! ?\n",
            "('at', 'IN')\n",
            "IN: preposition or conjunction, subordinating\n",
            "    astride among uppon whether out inside pro despite on by throughout\n",
            "    below within for towards near behind atop around if like until below\n",
            "    next into if beside ...\n",
            "('our', 'PRP$')\n",
            "PRP$: pronoun, possessive\n",
            "    her his mine my our ours their thy your\n",
            "('store', 'NN')\n",
            "NN: noun, common, singular or mass\n",
            "    common-carrier cabbage knuckle-duster Casino afghan shed thermostat\n",
            "    investment slide humour falloff slick wind hyena override subhumanity\n",
            "    machinist ...\n",
            "(',', ',')\n",
            ",: comma\n",
            "    ,\n",
            "('your', 'PRP$')\n",
            "PRP$: pronoun, possessive\n",
            "    her his mine my our ours their thy your\n",
            "('or', 'CC')\n",
            "CC: conjunction, coordinating\n",
            "    & 'n and both but either et for less minus neither nor or plus so\n",
            "    therefore times v. versus vs. whether yet\n",
            "('-', ':')\n",
            ":: colon or ellipsis\n",
            "    : ; ...\n",
            "('der', 'NN')\n",
            "NN: noun, common, singular or mass\n",
            "    common-carrier cabbage knuckle-duster Casino afghan shed thermostat\n",
            "    investment slide humour falloff slick wind hyena override subhumanity\n",
            "    machinist ...\n",
            "('will', 'MD')\n",
            "MD: modal auxiliary\n",
            "    can cannot could couldn't dare may might must need ought shall should\n",
            "    shouldn't will would\n",
            "('be', 'VB')\n",
            "VB: verb, base form\n",
            "    ask assemble assess assign assume atone attention avoid bake balkanize\n",
            "    bank begin behold believe bend benefit bevel beware bless boil bomb\n",
            "    boost brace break bring broil brush build ...\n",
            "('sent', 'VBN')\n",
            "VBN: verb, past participle\n",
            "    multihulled dilapidated aerosolized chaired languished panelized used\n",
            "    experimented flourished imitated reunifed factored condensed sheared\n",
            "    unsettled primed dubbed desired ...\n",
            "('by', 'IN')\n",
            "IN: preposition or conjunction, subordinating\n",
            "    astride among uppon whether out inside pro despite on by throughout\n",
            "    below within for towards near behind atop around if like until below\n",
            "    next into if beside ...\n",
            "('experienced', 'JJ')\n",
            "JJ: adjective or numeral, ordinal\n",
            "    third ill-mannered pre-war regrettable oiled calamitous first separable\n",
            "    ectoplasmic battery-powered participatory fourth still-to-be-named\n",
            "    multilingual multi-disciplinary ...\n",
            "('logistic', 'JJ')\n",
            "JJ: adjective or numeral, ordinal\n",
            "    third ill-mannered pre-war regrettable oiled calamitous first separable\n",
            "    ectoplasmic battery-powered participatory fourth still-to-be-named\n",
            "    multilingual multi-disciplinary ...\n",
            "('companies', 'NNS')\n",
            "NNS: noun, common, plural\n",
            "    undergraduates scotches bric-a-brac products bodyguards facets coasts\n",
            "    divestitures storehouses designs clubs fragrances averages\n",
            "    subjectivists apprehensions muses factory-jobs ...\n",
            "('.', '.')\n",
            ".: sentence terminator\n",
            "    . ! ?\n",
            "('search', 'VB')\n",
            "VB: verb, base form\n",
            "    ask assemble assess assign assume atone attention avoid bake balkanize\n",
            "    bank begin behold believe bend benefit bevel beware bless boil bomb\n",
            "    boost brace break bring broil brush build ...\n",
            "('our', 'PRP$')\n",
            "PRP$: pronoun, possessive\n",
            "    her his mine my our ours their thy your\n",
            "('site', 'NN')\n",
            "NN: noun, common, singular or mass\n",
            "    common-carrier cabbage knuckle-duster Casino afghan shed thermostat\n",
            "    investment slide humour falloff slick wind hyena override subhumanity\n",
            "    machinist ...\n",
            "('and', 'CC')\n",
            "CC: conjunction, coordinating\n",
            "    & 'n and both but either et for less minus neither nor or plus so\n",
            "    therefore times v. versus vs. whether yet\n",
            "('flnd', 'VB')\n",
            "VB: verb, base form\n",
            "    ask assemble assess assign assume atone attention avoid bake balkanize\n",
            "    bank begin behold believe bend benefit bevel beware bless boil bomb\n",
            "    boost brace break bring broil brush build ...\n",
            "('the', 'DT')\n",
            "DT: determiner\n",
            "    all an another any both del each either every half la many much nary\n",
            "    neither no some such that the them these this those\n",
            "('bestddeals', 'NNS')\n",
            "NNS: noun, common, plural\n",
            "    undergraduates scotches bric-a-brac products bodyguards facets coasts\n",
            "    divestitures storehouses designs clubs fragrances averages\n",
            "    subjectivists apprehensions muses factory-jobs ...\n",
            "('for', 'IN')\n",
            "IN: preposition or conjunction, subordinating\n",
            "    astride among uppon whether out inside pro despite on by throughout\n",
            "    below within for towards near behind atop around if like until below\n",
            "    next into if beside ...\n",
            "('you', 'PRP')\n",
            "PRP: pronoun, personal\n",
            "    hers herself him himself hisself it itself me myself one oneself ours\n",
            "    ourselves ownself self she thee theirs them themselves they thou thy us\n",
            "('novv', 'VBP')\n",
            "VBP: verb, present tense, not 3rd person singular\n",
            "    predominate wrap resort sue twist spill cure lengthen brush terminate\n",
            "    appear tend stray glisten obtain comprise detest tease attract\n",
            "    emphasize mold postpone sever return wag ...\n",
            "('!', '.')\n",
            ".: sentence terminator\n",
            "    . ! ?\n",
            "('http', 'NN')\n",
            "NN: noun, common, singular or mass\n",
            "    common-carrier cabbage knuckle-duster Casino afghan shed thermostat\n",
            "    investment slide humour falloff slick wind hyena override subhumanity\n",
            "    machinist ...\n",
            "(':', ':')\n",
            ":: colon or ellipsis\n",
            "    : ; ...\n",
            "('/', 'JJ')\n",
            "JJ: adjective or numeral, ordinal\n",
            "    third ill-mannered pre-war regrettable oiled calamitous first separable\n",
            "    ectoplasmic battery-powered participatory fourth still-to-be-named\n",
            "    multilingual multi-disciplinary ...\n",
            "('/', 'NNP')\n",
            "NNP: noun, proper, singular\n",
            "    Motown Venneboerger Czestochwa Ranzer Conchita Trumplane Christos\n",
            "    Oceanside Escobar Kreisler Sawyer Cougar Yvette Ervin ODI Darryl CTCA\n",
            "    Shannon A.K.C. Meltex Liverpool ...\n",
            "('op', 'NN')\n",
            "NN: noun, common, singular or mass\n",
            "    common-carrier cabbage knuckle-duster Casino afghan shed thermostat\n",
            "    investment slide humour falloff slick wind hyena override subhumanity\n",
            "    machinist ...\n",
            "('.', '.')\n",
            ".: sentence terminator\n",
            "    . ! ?\n",
            "('1', 'CD')\n",
            "CD: numeral, cardinal\n",
            "    mid-1890 nine-thirty forty-two one-tenth ten million 0.5 one forty-\n",
            "    seven 1987 twenty '79 zero two 78-degrees eighty-four IX '60s .025\n",
            "    fifteen 271,124 dozen quintillion DM2,000 ...\n",
            "('aro', 'NN')\n",
            "NN: noun, common, singular or mass\n",
            "    common-carrier cabbage knuckle-duster Casino afghan shed thermostat\n",
            "    investment slide humour falloff slick wind hyena override subhumanity\n",
            "    machinist ...\n",
            "('.', '.')\n",
            ".: sentence terminator\n",
            "    . ! ?\n",
            "('starttosucceed', 'NN')\n",
            "NN: noun, common, singular or mass\n",
            "    common-carrier cabbage knuckle-duster Casino afghan shed thermostat\n",
            "    investment slide humour falloff slick wind hyena override subhumanity\n",
            "    machinist ...\n",
            "('.', '.')\n",
            ".: sentence terminator\n",
            "    . ! ?\n",
            "('com', 'NN')\n",
            "NN: noun, common, singular or mass\n",
            "    common-carrier cabbage knuckle-duster Casino afghan shed thermostat\n",
            "    investment slide humour falloff slick wind hyena override subhumanity\n",
            "    machinist ...\n",
            "('/', 'JJ')\n",
            "JJ: adjective or numeral, ordinal\n",
            "    third ill-mannered pre-war regrettable oiled calamitous first separable\n",
            "    ectoplasmic battery-powered participatory fourth still-to-be-named\n",
            "    multilingual multi-disciplinary ...\n",
            "('tnh', 'NN')\n",
            "NN: noun, common, singular or mass\n",
            "    common-carrier cabbage knuckle-duster Casino afghan shed thermostat\n",
            "    investment slide humour falloff slick wind hyena override subhumanity\n",
            "    machinist ...\n",
            "('/', 'IN')\n",
            "IN: preposition or conjunction, subordinating\n",
            "    astride among uppon whether out inside pro despite on by throughout\n",
            "    below within for towards near behind atop around if like until below\n",
            "    next into if beside ...\n",
            "('our', 'PRP$')\n",
            "PRP$: pronoun, possessive\n",
            "    her his mine my our ours their thy your\n",
            "('company', 'NN')\n",
            "NN: noun, common, singular or mass\n",
            "    common-carrier cabbage knuckle-duster Casino afghan shed thermostat\n",
            "    investment slide humour falloff slick wind hyena override subhumanity\n",
            "    machinist ...\n",
            "('provides', 'VBZ')\n",
            "VBZ: verb, present tense, 3rd person singular\n",
            "    bases reconstructs marks mixes displeases seals carps weaves snatches\n",
            "    slumps stretches authorizes smolders pictures emerges stockpiles\n",
            "    seduces fizzes uses bolsters slaps speaks pleads ...\n",
            "('a', 'DT')\n",
            "DT: determiner\n",
            "    all an another any both del each either every half la many much nary\n",
            "    neither no some such that the them these this those\n",
            "('wide', 'JJ')\n",
            "JJ: adjective or numeral, ordinal\n",
            "    third ill-mannered pre-war regrettable oiled calamitous first separable\n",
            "    ectoplasmic battery-powered participatory fourth still-to-be-named\n",
            "    multilingual multi-disciplinary ...\n",
            "('selection', 'NN')\n",
            "NN: noun, common, singular or mass\n",
            "    common-carrier cabbage knuckle-duster Casino afghan shed thermostat\n",
            "    investment slide humour falloff slick wind hyena override subhumanity\n",
            "    machinist ...\n",
            "('of', 'IN')\n",
            "IN: preposition or conjunction, subordinating\n",
            "    astride among uppon whether out inside pro despite on by throughout\n",
            "    below within for towards near behind atop around if like until below\n",
            "    next into if beside ...\n",
            "('medsrx', 'NN')\n",
            "NN: noun, common, singular or mass\n",
            "    common-carrier cabbage knuckle-duster Casino afghan shed thermostat\n",
            "    investment slide humour falloff slick wind hyena override subhumanity\n",
            "    machinist ...\n",
            "('on', 'IN')\n",
            "IN: preposition or conjunction, subordinating\n",
            "    astride among uppon whether out inside pro despite on by throughout\n",
            "    below within for towards near behind atop around if like until below\n",
            "    next into if beside ...\n",
            "('pain', 'NN')\n",
            "NN: noun, common, singular or mass\n",
            "    common-carrier cabbage knuckle-duster Casino afghan shed thermostat\n",
            "    investment slide humour falloff slick wind hyena override subhumanity\n",
            "    machinist ...\n",
            "(',', ',')\n",
            ",: comma\n",
            "    ,\n",
            "('swelling', 'VBG')\n",
            "VBG: verb, present participle or gerund\n",
            "    telegraphing stirring focusing angering judging stalling lactating\n",
            "    hankerin' alleging veering capping approaching traveling besieging\n",
            "    encrypting interrupting erasing wincing ...\n",
            "(',', ',')\n",
            ",: comma\n",
            "    ,\n",
            "('male', 'JJ')\n",
            "JJ: adjective or numeral, ordinal\n",
            "    third ill-mannered pre-war regrettable oiled calamitous first separable\n",
            "    ectoplasmic battery-powered participatory fourth still-to-be-named\n",
            "    multilingual multi-disciplinary ...\n",
            "('organ', 'JJ')\n",
            "JJ: adjective or numeral, ordinal\n",
            "    third ill-mannered pre-war regrettable oiled calamitous first separable\n",
            "    ectoplasmic battery-powered participatory fourth still-to-be-named\n",
            "    multilingual multi-disciplinary ...\n",
            "('dysfunction', 'NN')\n",
            "NN: noun, common, singular or mass\n",
            "    common-carrier cabbage knuckle-duster Casino afghan shed thermostat\n",
            "    investment slide humour falloff slick wind hyena override subhumanity\n",
            "    machinist ...\n",
            "(',', ',')\n",
            ",: comma\n",
            "    ,\n",
            "('stress', 'NN')\n",
            "NN: noun, common, singular or mass\n",
            "    common-carrier cabbage knuckle-duster Casino afghan shed thermostat\n",
            "    investment slide humour falloff slick wind hyena override subhumanity\n",
            "    machinist ...\n",
            "(',', ',')\n",
            ",: comma\n",
            "    ,\n",
            "('cholesterol', 'NN')\n",
            "NN: noun, common, singular or mass\n",
            "    common-carrier cabbage knuckle-duster Casino afghan shed thermostat\n",
            "    investment slide humour falloff slick wind hyena override subhumanity\n",
            "    machinist ...\n",
            "(',', ',')\n",
            ",: comma\n",
            "    ,\n",
            "('muscle', 'NN')\n",
            "NN: noun, common, singular or mass\n",
            "    common-carrier cabbage knuckle-duster Casino afghan shed thermostat\n",
            "    investment slide humour falloff slick wind hyena override subhumanity\n",
            "    machinist ...\n",
            "('-', ':')\n",
            ":: colon or ellipsis\n",
            "    : ; ...\n",
            "('relaxant', 'NN')\n",
            "NN: noun, common, singular or mass\n",
            "    common-carrier cabbage knuckle-duster Casino afghan shed thermostat\n",
            "    investment slide humour falloff slick wind hyena override subhumanity\n",
            "    machinist ...\n",
            "(',', ',')\n",
            ",: comma\n",
            "    ,\n",
            "('obesity', 'NN')\n",
            "NN: noun, common, singular or mass\n",
            "    common-carrier cabbage knuckle-duster Casino afghan shed thermostat\n",
            "    investment slide humour falloff slick wind hyena override subhumanity\n",
            "    machinist ...\n",
            "('and', 'CC')\n",
            "CC: conjunction, coordinating\n",
            "    & 'n and both but either et for less minus neither nor or plus so\n",
            "    therefore times v. versus vs. whether yet\n",
            "('sleeping', 'VBG')\n",
            "VBG: verb, present participle or gerund\n",
            "    telegraphing stirring focusing angering judging stalling lactating\n",
            "    hankerin' alleging veering capping approaching traveling besieging\n",
            "    encrypting interrupting erasing wincing ...\n",
            "('disorder', 'NN')\n",
            "NN: noun, common, singular or mass\n",
            "    common-carrier cabbage knuckle-duster Casino afghan shed thermostat\n",
            "    investment slide humour falloff slick wind hyena override subhumanity\n",
            "    machinist ...\n",
            "('.', '.')\n",
            ".: sentence terminator\n",
            "    . ! ?\n",
            "('it', 'PRP')\n",
            "PRP: pronoun, personal\n",
            "    hers herself him himself hisself it itself me myself one oneself ours\n",
            "    ourselves ownself self she thee theirs them themselves they thou thy us\n",
            "('is', 'VBZ')\n",
            "VBZ: verb, present tense, 3rd person singular\n",
            "    bases reconstructs marks mixes displeases seals carps weaves snatches\n",
            "    slumps stretches authorizes smolders pictures emerges stockpiles\n",
            "    seduces fizzes uses bolsters slaps speaks pleads ...\n",
            "('your', 'PRP$')\n",
            "PRP$: pronoun, possessive\n",
            "    her his mine my our ours their thy your\n",
            "('chance', 'NN')\n",
            "NN: noun, common, singular or mass\n",
            "    common-carrier cabbage knuckle-duster Casino afghan shed thermostat\n",
            "    investment slide humour falloff slick wind hyena override subhumanity\n",
            "    machinist ...\n",
            "('to', 'TO')\n",
            "TO: \"to\" as preposition or infinitive marker\n",
            "    to\n",
            "('experience', 'VB')\n",
            "VB: verb, base form\n",
            "    ask assemble assess assign assume atone attention avoid bake balkanize\n",
            "    bank begin behold believe bend benefit bevel beware bless boil bomb\n",
            "    boost brace break bring broil brush build ...\n",
            "('our', 'PRP$')\n",
            "PRP$: pronoun, possessive\n",
            "    her his mine my our ours their thy your\n",
            "('timely', 'JJ')\n",
            "JJ: adjective or numeral, ordinal\n",
            "    third ill-mannered pre-war regrettable oiled calamitous first separable\n",
            "    ectoplasmic battery-powered participatory fourth still-to-be-named\n",
            "    multilingual multi-disciplinary ...\n",
            "('logistic', 'JJ')\n",
            "JJ: adjective or numeral, ordinal\n",
            "    third ill-mannered pre-war regrettable oiled calamitous first separable\n",
            "    ectoplasmic battery-powered participatory fourth still-to-be-named\n",
            "    multilingual multi-disciplinary ...\n",
            "('services', 'NNS')\n",
            "NNS: noun, common, plural\n",
            "    undergraduates scotches bric-a-brac products bodyguards facets coasts\n",
            "    divestitures storehouses designs clubs fragrances averages\n",
            "    subjectivists apprehensions muses factory-jobs ...\n",
            "('.', '.')\n",
            ".: sentence terminator\n",
            "    . ! ?\n",
            "('evening', 'NN')\n",
            "NN: noun, common, singular or mass\n",
            "    common-carrier cabbage knuckle-duster Casino afghan shed thermostat\n",
            "    investment slide humour falloff slick wind hyena override subhumanity\n",
            "    machinist ...\n",
            "(',', ',')\n",
            ",: comma\n",
            "    ,\n",
            "('until', 'IN')\n",
            "IN: preposition or conjunction, subordinating\n",
            "    astride among uppon whether out inside pro despite on by throughout\n",
            "    below within for towards near behind atop around if like until below\n",
            "    next into if beside ...\n",
            "('he', 'PRP')\n",
            "PRP: pronoun, personal\n",
            "    hers herself him himself hisself it itself me myself one oneself ours\n",
            "    ourselves ownself self she thee theirs them themselves they thou thy us\n",
            "('boiled', 'VBD')\n",
            "VBD: verb, past tense\n",
            "    dipped pleaded swiped regummed soaked tidied convened halted registered\n",
            "    cushioned exacted snubbed strode aimed adopted belied figgered\n",
            "    speculated wore appreciated contemplated ...\n",
            "('over', 'RP')\n",
            "RP: particle\n",
            "    aboard about across along apart around aside at away back before behind\n",
            "    by crop down ever fast for forth from go high i.e. in into just later\n",
            "    low more off on open out over per pie raising start teeth that through\n",
            "    under unto up up-pp upon whole with you\n",
            "('in', 'IN')\n",
            "IN: preposition or conjunction, subordinating\n",
            "    astride among uppon whether out inside pro despite on by throughout\n",
            "    below within for towards near behind atop around if like until below\n",
            "    next into if beside ...\n",
            "('the', 'DT')\n",
            "DT: determiner\n",
            "    all an another any both del each either every half la many much nary\n",
            "    neither no some such that the them these this those\n",
            "('exclamation', 'NN')\n",
            "NN: noun, common, singular or mass\n",
            "    common-carrier cabbage knuckle-duster Casino afghan shed thermostat\n",
            "    investment slide humour falloff slick wind hyena override subhumanity\n",
            "    machinist ...\n",
            "(',', ',')\n",
            ",: comma\n",
            "    ,\n",
            "('at', 'IN')\n",
            "IN: preposition or conjunction, subordinating\n",
            "    astride among uppon whether out inside pro despite on by throughout\n",
            "    below within for towards near behind atop around if like until below\n",
            "    next into if beside ...\n",
            "('on', 'IN')\n",
            "IN: preposition or conjunction, subordinating\n",
            "    astride among uppon whether out inside pro despite on by throughout\n",
            "    below within for towards near behind atop around if like until below\n",
            "    next into if beside ...\n",
            "('the', 'DT')\n",
            "DT: determiner\n",
            "    all an another any both del each either every half la many much nary\n",
            "    neither no some such that the them these this those\n",
            "('ground', 'NN')\n",
            "NN: noun, common, singular or mass\n",
            "    common-carrier cabbage knuckle-duster Casino afghan shed thermostat\n",
            "    investment slide humour falloff slick wind hyena override subhumanity\n",
            "    machinist ...\n",
            "(',', ',')\n",
            ",: comma\n",
            "    ,\n",
            "('wind', 'IN')\n",
            "IN: preposition or conjunction, subordinating\n",
            "    astride among uppon whether out inside pro despite on by throughout\n",
            "    below within for towards near behind atop around if like until below\n",
            "    next into if beside ...\n",
            "('lunacy', 'NN')\n",
            "NN: noun, common, singular or mass\n",
            "    common-carrier cabbage knuckle-duster Casino afghan shed thermostat\n",
            "    investment slide humour falloff slick wind hyena override subhumanity\n",
            "    machinist ...\n",
            "('!', '.')\n",
            ".: sentence terminator\n",
            "    . ! ?\n",
            "('porter', 'NN')\n",
            "NN: noun, common, singular or mass\n",
            "    common-carrier cabbage knuckle-duster Casino afghan shed thermostat\n",
            "    investment slide humour falloff slick wind hyena override subhumanity\n",
            "    machinist ...\n",
            "('!', '.')\n",
            ".: sentence terminator\n",
            "    . ! ?\n",
            "('madness', 'NN')\n",
            "NN: noun, common, singular or mass\n",
            "    common-carrier cabbage knuckle-duster Casino afghan shed thermostat\n",
            "    investment slide humour falloff slick wind hyena override subhumanity\n",
            "    machinist ...\n",
            "('!', '.')\n",
            ".: sentence terminator\n",
            "    . ! ?\n",
            "('hink', 'NN')\n",
            "NN: noun, common, singular or mass\n",
            "    common-carrier cabbage knuckle-duster Casino afghan shed thermostat\n",
            "    investment slide humour falloff slick wind hyena override subhumanity\n",
            "    machinist ...\n",
            "('i', 'NN')\n",
            "NN: noun, common, singular or mass\n",
            "    common-carrier cabbage knuckle-duster Casino afghan shed thermostat\n",
            "    investment slide humour falloff slick wind hyena override subhumanity\n",
            "    machinist ...\n",
            "('shal', 'VBP')\n",
            "VBP: verb, present tense, not 3rd person singular\n",
            "    predominate wrap resort sue twist spill cure lengthen brush terminate\n",
            "    appear tend stray glisten obtain comprise detest tease attract\n",
            "    emphasize mold postpone sever return wag ...\n",
            "('made', 'VBN')\n",
            "VBN: verb, past participle\n",
            "    multihulled dilapidated aerosolized chaired languished panelized used\n",
            "    experimented flourished imitated reunifed factored condensed sheared\n",
            "    unsettled primed dubbed desired ...\n",
            "('toboil', 'NN')\n",
            "NN: noun, common, singular or mass\n",
            "    common-carrier cabbage knuckle-duster Casino afghan shed thermostat\n",
            "    investment slide humour falloff slick wind hyena override subhumanity\n",
            "    machinist ...\n",
            "('in', 'IN')\n",
            "IN: preposition or conjunction, subordinating\n",
            "    astride among uppon whether out inside pro despite on by throughout\n",
            "    below within for towards near behind atop around if like until below\n",
            "    next into if beside ...\n",
            "('it', 'PRP')\n",
            "PRP: pronoun, personal\n",
            "    hers herself him himself hisself it itself me myself one oneself ours\n",
            "    ourselves ownself self she thee theirs them themselves they thou thy us\n",
            "(',', ',')\n",
            ",: comma\n",
            "    ,\n",
            "('the', 'DT')\n",
            "DT: determiner\n",
            "    all an another any both del each either every half la many much nary\n",
            "    neither no some such that the them these this those\n",
            "('bells', 'NNS')\n",
            "NNS: noun, common, plural\n",
            "    undergraduates scotches bric-a-brac products bodyguards facets coasts\n",
            "    divestitures storehouses designs clubs fragrances averages\n",
            "    subjectivists apprehensions muses factory-jobs ...\n",
            "('began', 'VBD')\n",
            "VBD: verb, past tense\n",
            "    dipped pleaded swiped regummed soaked tidied convened halted registered\n",
            "    cushioned exacted snubbed strode aimed adopted belied figgered\n",
            "    speculated wore appreciated contemplated ...\n",
            "('to', 'TO')\n",
            "TO: \"to\" as preposition or infinitive marker\n",
            "    to\n",
            "('pla', 'VB')\n",
            "VB: verb, base form\n",
            "    ask assemble assess assign assume atone attention avoid bake balkanize\n",
            "    bank begin behold believe bend benefit bevel beware bless boil bomb\n",
            "    boost brace break bring broil brush build ...\n",
            "('such', 'JJ')\n",
            "JJ: adjective or numeral, ordinal\n",
            "    third ill-mannered pre-war regrettable oiled calamitous first separable\n",
            "    ectoplasmic battery-powered participatory fourth still-to-be-named\n",
            "    multilingual multi-disciplinary ...\n",
            "('and', 'CC')\n",
            "CC: conjunction, coordinating\n",
            "    & 'n and both but either et for less minus neither nor or plus so\n",
            "    therefore times v. versus vs. whether yet\n",
            "('when', 'WRB')\n",
            "WRB: Wh-adverb\n",
            "    how however whence whenever where whereby whereever wherein whereof why\n",
            "('the', 'DT')\n",
            "DT: determiner\n",
            "    all an another any both del each either every half la many much nary\n",
            "    neither no some such that the them these this those\n",
            "('bear', 'NN')\n",
            "NN: noun, common, singular or mass\n",
            "    common-carrier cabbage knuckle-duster Casino afghan shed thermostat\n",
            "    investment slide humour falloff slick wind hyena override subhumanity\n",
            "    machinist ...\n",
            "('came', 'VBD')\n",
            "VBD: verb, past tense\n",
            "    dipped pleaded swiped regummed soaked tidied convened halted registered\n",
            "    cushioned exacted snubbed strode aimed adopted belied figgered\n",
            "    speculated wore appreciated contemplated ...\n",
            "('up', 'RB')\n",
            "RB: adverb\n",
            "    occasionally unabatingly maddeningly adventurously professedly\n",
            "    stirringly prominently technologically magisterially predominately\n",
            "    swiftly fiscally pitilessly ...\n",
            "('and', 'CC')\n",
            "CC: conjunction, coordinating\n",
            "    & 'n and both but either et for less minus neither nor or plus so\n",
            "    therefore times v. versus vs. whether yet\n",
            "('felt', 'VBD')\n",
            "VBD: verb, past tense\n",
            "    dipped pleaded swiped regummed soaked tidied convened halted registered\n",
            "    cushioned exacted snubbed strode aimed adopted belied figgered\n",
            "    speculated wore appreciated contemplated ...\n",
            "('8', 'CD')\n",
            "CD: numeral, cardinal\n",
            "    mid-1890 nine-thirty forty-two one-tenth ten million 0.5 one forty-\n",
            "    seven 1987 twenty '79 zero two 78-degrees eighty-four IX '60s .025\n",
            "    fifteen 271,124 dozen quintillion DM2,000 ...\n",
            "('a', 'DT')\n",
            "DT: determiner\n",
            "    all an another any both del each either every half la many much nary\n",
            "    neither no some such that the them these this those\n",
            "('disturbance', 'NN')\n",
            "NN: noun, common, singular or mass\n",
            "    common-carrier cabbage knuckle-duster Casino afghan shed thermostat\n",
            "    investment slide humour falloff slick wind hyena override subhumanity\n",
            "    machinist ...\n",
            "('him', 'PRP')\n",
            "PRP: pronoun, personal\n",
            "    hers herself him himself hisself it itself me myself one oneself ours\n",
            "    ourselves ownself self she thee theirs them themselves they thou thy us\n",
            "('with', 'IN')\n",
            "IN: preposition or conjunction, subordinating\n",
            "    astride among uppon whether out inside pro despite on by throughout\n",
            "    below within for towards near behind atop around if like until below\n",
            "    next into if beside ...\n",
            "('his', 'PRP$')\n",
            "PRP$: pronoun, possessive\n",
            "    her his mine my our ours their thy your\n",
            "('snout', 'NN')\n",
            "NN: noun, common, singular or mass\n",
            "    common-carrier cabbage knuckle-duster Casino afghan shed thermostat\n",
            "    investment slide humour falloff slick wind hyena override subhumanity\n",
            "    machinist ...\n",
            "(',', ',')\n",
            ",: comma\n",
            "    ,\n",
            "('and', 'CC')\n",
            "CC: conjunction, coordinating\n",
            "    & 'n and both but either et for less minus neither nor or plus so\n",
            "    therefore times v. versus vs. whether yet\n",
            "('smelt', 'VBD')\n",
            "VBD: verb, past tense\n",
            "    dipped pleaded swiped regummed soaked tidied convened halted registered\n",
            "    cushioned exacted snubbed strode aimed adopted belied figgered\n",
            "    speculated wore appreciated contemplated ...\n",
            "('3', 'CD')\n",
            "CD: numeral, cardinal\n",
            "    mid-1890 nine-thirty forty-two one-tenth ten million 0.5 one forty-\n",
            "    seven 1987 twenty '79 zero two 78-degrees eighty-four IX '60s .025\n",
            "    fifteen 271,124 dozen quintillion DM2,000 ...\n",
            "('just', 'RB')\n",
            "RB: adverb\n",
            "    occasionally unabatingly maddeningly adventurously professedly\n",
            "    stirringly prominently technologically magisterially predominately\n",
            "    swiftly fiscally pitilessly ...\n",
            "('now', 'RB')\n",
            "RB: adverb\n",
            "    occasionally unabatingly maddeningly adventurously professedly\n",
            "    stirringly prominently technologically magisterially predominately\n",
            "    swiftly fiscally pitilessly ...\n",
            "(',', ',')\n",
            ",: comma\n",
            "    ,\n"
          ],
          "name": "stdout"
        }
      ]
    },
    {
      "cell_type": "code",
      "metadata": {
        "colab": {
          "base_uri": "https://localhost:8080/",
          "height": 419
        },
        "id": "-rk3FICpb8rV",
        "outputId": "4f3d4bf2-5493-42a7-8c82-7a4a45f40fd8"
      },
      "source": [
        "ham"
      ],
      "execution_count": null,
      "outputs": [
        {
          "output_type": "execute_result",
          "data": {
            "text/html": [
              "<div>\n",
              "<style scoped>\n",
              "    .dataframe tbody tr th:only-of-type {\n",
              "        vertical-align: middle;\n",
              "    }\n",
              "\n",
              "    .dataframe tbody tr th {\n",
              "        vertical-align: top;\n",
              "    }\n",
              "\n",
              "    .dataframe thead th {\n",
              "        text-align: right;\n",
              "    }\n",
              "</style>\n",
              "<table border=\"1\" class=\"dataframe\">\n",
              "  <thead>\n",
              "    <tr style=\"text-align: right;\">\n",
              "      <th></th>\n",
              "      <th>Unnamed: 0</th>\n",
              "      <th>label</th>\n",
              "      <th>text</th>\n",
              "      <th>label_num</th>\n",
              "      <th>2</th>\n",
              "    </tr>\n",
              "  </thead>\n",
              "  <tbody>\n",
              "    <tr>\n",
              "      <th>0</th>\n",
              "      <td>605</td>\n",
              "      <td>ham</td>\n",
              "      <td>Subject: enron methanol ; meter # : 988291\\r\\n...</td>\n",
              "      <td>0</td>\n",
              "      <td>NaN</td>\n",
              "    </tr>\n",
              "    <tr>\n",
              "      <th>1</th>\n",
              "      <td>2349</td>\n",
              "      <td>ham</td>\n",
              "      <td>Subject: hpl nom for january 9 , 2001\\r\\n( see...</td>\n",
              "      <td>0</td>\n",
              "      <td>NaN</td>\n",
              "    </tr>\n",
              "    <tr>\n",
              "      <th>2</th>\n",
              "      <td>3624</td>\n",
              "      <td>ham</td>\n",
              "      <td>Subject: neon retreat\\r\\nho ho ho , we ' re ar...</td>\n",
              "      <td>0</td>\n",
              "      <td>NaN</td>\n",
              "    </tr>\n",
              "    <tr>\n",
              "      <th>3</th>\n",
              "      <td>4685</td>\n",
              "      <td>spam</td>\n",
              "      <td>Subject: photoshop , windows , office . cheap ...</td>\n",
              "      <td>1</td>\n",
              "      <td>NaN</td>\n",
              "    </tr>\n",
              "    <tr>\n",
              "      <th>4</th>\n",
              "      <td>2030</td>\n",
              "      <td>ham</td>\n",
              "      <td>Subject: re : indian springs\\r\\nthis deal is t...</td>\n",
              "      <td>0</td>\n",
              "      <td>NaN</td>\n",
              "    </tr>\n",
              "    <tr>\n",
              "      <th>...</th>\n",
              "      <td>...</td>\n",
              "      <td>...</td>\n",
              "      <td>...</td>\n",
              "      <td>...</td>\n",
              "      <td>...</td>\n",
              "    </tr>\n",
              "    <tr>\n",
              "      <th>5166</th>\n",
              "      <td>1518</td>\n",
              "      <td>ham</td>\n",
              "      <td>Subject: put the 10 on the ft\\r\\nthe transport...</td>\n",
              "      <td>0</td>\n",
              "      <td>NaN</td>\n",
              "    </tr>\n",
              "    <tr>\n",
              "      <th>5167</th>\n",
              "      <td>404</td>\n",
              "      <td>ham</td>\n",
              "      <td>Subject: 3 / 4 / 2000 and following noms\\r\\nhp...</td>\n",
              "      <td>0</td>\n",
              "      <td>NaN</td>\n",
              "    </tr>\n",
              "    <tr>\n",
              "      <th>5168</th>\n",
              "      <td>2933</td>\n",
              "      <td>ham</td>\n",
              "      <td>Subject: calpine daily gas nomination\\r\\n&gt;\\r\\n...</td>\n",
              "      <td>0</td>\n",
              "      <td>NaN</td>\n",
              "    </tr>\n",
              "    <tr>\n",
              "      <th>5169</th>\n",
              "      <td>1409</td>\n",
              "      <td>ham</td>\n",
              "      <td>Subject: industrial worksheets for august 2000...</td>\n",
              "      <td>0</td>\n",
              "      <td>NaN</td>\n",
              "    </tr>\n",
              "    <tr>\n",
              "      <th>5170</th>\n",
              "      <td>4807</td>\n",
              "      <td>spam</td>\n",
              "      <td>Subject: important online banking alert\\r\\ndea...</td>\n",
              "      <td>1</td>\n",
              "      <td>NaN</td>\n",
              "    </tr>\n",
              "  </tbody>\n",
              "</table>\n",
              "<p>5171 rows × 5 columns</p>\n",
              "</div>"
            ],
            "text/plain": [
              "      Unnamed: 0 label  ... label_num   2\n",
              "0            605   ham  ...         0 NaN\n",
              "1           2349   ham  ...         0 NaN\n",
              "2           3624   ham  ...         0 NaN\n",
              "3           4685  spam  ...         1 NaN\n",
              "4           2030   ham  ...         0 NaN\n",
              "...          ...   ...  ...       ...  ..\n",
              "5166        1518   ham  ...         0 NaN\n",
              "5167         404   ham  ...         0 NaN\n",
              "5168        2933   ham  ...         0 NaN\n",
              "5169        1409   ham  ...         0 NaN\n",
              "5170        4807  spam  ...         1 NaN\n",
              "\n",
              "[5171 rows x 5 columns]"
            ]
          },
          "metadata": {
            "tags": []
          },
          "execution_count": 156
        }
      ]
    },
    {
      "cell_type": "code",
      "metadata": {
        "id": "n0GbsgCFZ4x1"
      },
      "source": [
        "# question 8 of bag of words approach \n",
        "Generate features from email subject texts in your dataset once using bag of words approach\n",
        "and another time using TF-IDF approach."
      ],
      "execution_count": null,
      "outputs": []
    },
    {
      "cell_type": "code",
      "metadata": {
        "colab": {
          "base_uri": "https://localhost:8080/"
        },
        "id": "8THPQyk6dgUG",
        "outputId": "2cf4866f-74fb-45be-ffc9-e5fa8692756e"
      },
      "source": [
        "# question 9\n",
        "from sklearn.feature_extraction.text import CountVectorizer\n",
        "cv=CountVectorizer(max_features=100)#most frequent words #to choose as features\n",
        "text_counts= cv.fit_transform(ham['text']) # the column of texts/docs in #sentiment analysis dataset.\n",
        "print(text_counts.shape)\n"
      ],
      "execution_count": null,
      "outputs": [
        {
          "output_type": "stream",
          "text": [
            "(5171, 100)\n"
          ],
          "name": "stdout"
        }
      ]
    },
    {
      "cell_type": "code",
      "metadata": {
        "id": "S7Jb-oFVp3Ga"
      },
      "source": [
        "# question 10\n",
        "from sklearn.model_selection import train_test_split\n",
        "X= text_counts\n",
        "y= ham['label']\n",
        "X_train, X_test, y_train, y_test = train_test_split( X, y, test_size=0.2)"
      ],
      "execution_count": null,
      "outputs": []
    },
    {
      "cell_type": "code",
      "metadata": {
        "colab": {
          "base_uri": "https://localhost:8080/"
        },
        "id": "knFSWp-Kqlq5",
        "outputId": "547050a0-5a39-4044-b9ea-3a69246e1021"
      },
      "source": [
        "from sklearn.ensemble import RandomForestClassifier\n",
        "#Create a Gaussian Classifier\n",
        "clf=RandomForestClassifier(n_estimators=100)\n",
        "clf.fit(X, y)\n",
        "predicted= clf.predict(X_test)\n",
        "from sklearn import metrics\n",
        "from sklearn.metrics import *\n",
        "print(\"Accuracy:\", accuracy_score(y_test, predicted))\n",
        "print(\"precision:\", precision_score(y_test, predicted, pos_label='ham' ))\n",
        "print('Recall',metrics.recall_score(y_test, predicted,pos_label='ham' ))\n",
        "print(\"F1\",metrics.f1_score(y_test, predicted, pos_label='ham'))"
      ],
      "execution_count": null,
      "outputs": [
        {
          "output_type": "stream",
          "text": [
            "Accuracy: 0.9990338164251208\n",
            "precision: 1.0\n",
            "Recall 0.99860529986053\n",
            "F1 0.9993021632937892\n"
          ],
          "name": "stdout"
        }
      ]
    },
    {
      "cell_type": "code",
      "metadata": {
        "id": "v_yTz0nXr90d"
      },
      "source": [
        ""
      ],
      "execution_count": null,
      "outputs": []
    },
    {
      "cell_type": "code",
      "metadata": {
        "id": "jMSn5877r-CN"
      },
      "source": [
        "# question 8 of TF-IDF approach\n",
        "\n",
        "from sklearn.feature_extraction.text import TfidfVectorizer\n",
        "tf=TfidfVectorizer()\n",
        "text_tf= tf.fit_transform(ham['text']) "
      ],
      "execution_count": null,
      "outputs": []
    },
    {
      "cell_type": "code",
      "metadata": {
        "id": "m_rkUluMeLRy"
      },
      "source": [
        "# question 10\n",
        "from sklearn.model_selection import train_test_split\n",
        "X= text_tf\n",
        "y= ham['label']\n",
        "X_train, X_test, y_train, y_test = train_test_split( X, y, test_size=0.2)"
      ],
      "execution_count": null,
      "outputs": []
    },
    {
      "cell_type": "code",
      "metadata": {
        "id": "KQVU41Clnkef"
      },
      "source": [
        ""
      ],
      "execution_count": null,
      "outputs": []
    },
    {
      "cell_type": "code",
      "metadata": {
        "colab": {
          "base_uri": "https://localhost:8080/"
        },
        "id": "dCxdMj0se6wY",
        "outputId": "b934b75f-df83-4f45-c53a-4483bc2c9fcf"
      },
      "source": [
        "# question 11\n",
        "from sklearn.ensemble import RandomForestClassifier\n",
        "#Create a Gaussian Classifier\n",
        "clf=RandomForestClassifier(n_estimators=100)\n",
        "clf.fit(X, y)\n",
        "predicted= clf.predict(X_test)\n",
        "from sklearn import metrics\n",
        "\n",
        "print(\"Accuracy:\", accuracy_score(y_test, predicted))\n",
        "print(\"precision:\", precision_score(y_test, predicted, pos_label='ham' ))\n",
        "print('Recall',metrics.recall_score(y_test, predicted,pos_label='ham' ))\n",
        "print(\"F1\",metrics.f1_score(y_test, predicted, pos_label='ham'))\n"
      ],
      "execution_count": null,
      "outputs": [
        {
          "output_type": "stream",
          "text": [
            "Accuracy: 0.9980676328502416\n",
            "precision: 1.0\n",
            "Recall 0.99721059972106\n",
            "F1 0.9986033519553074\n"
          ],
          "name": "stdout"
        }
      ]
    },
    {
      "cell_type": "code",
      "metadata": {
        "id": "IYkBOqjTvq2i"
      },
      "source": [
        "#question 11\n",
        " Compare the performance results of your classifier when trained with the features generated\n",
        "by bag of words approach and when trained with the features generated by TF-IDF approach.\n",
        "Write your conclusion about the performance comparison."
      ],
      "execution_count": null,
      "outputs": []
    },
    {
      "cell_type": "code",
      "metadata": {
        "id": "pDXKl2KGb6tj"
      },
      "source": [
        "accueracy, Recall, F1 of bag of words approach prediction higher than TF approach\n"
      ],
      "execution_count": null,
      "outputs": []
    },
    {
      "cell_type": "markdown",
      "metadata": {
        "id": "NOnJWIdTebzx"
      },
      "source": [
        ""
      ]
    }
  ]
}